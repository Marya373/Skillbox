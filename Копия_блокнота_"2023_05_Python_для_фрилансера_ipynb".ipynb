{
  "nbformat": 4,
  "nbformat_minor": 0,
  "metadata": {
    "colab": {
      "provenance": [],
      "include_colab_link": true
    },
    "kernelspec": {
      "name": "python3",
      "display_name": "Python 3"
    },
    "language_info": {
      "name": "python"
    }
  },
  "cells": [
    {
      "cell_type": "markdown",
      "metadata": {
        "id": "view-in-github",
        "colab_type": "text"
      },
      "source": [
        "<a href=\"https://colab.research.google.com/github/Marya373/Skillbox/blob/main/%D0%9A%D0%BE%D0%BF%D0%B8%D1%8F_%D0%B1%D0%BB%D0%BE%D0%BA%D0%BD%D0%BE%D1%82%D0%B0_%222023_05_Python_%D0%B4%D0%BB%D1%8F_%D1%84%D1%80%D0%B8%D0%BB%D0%B0%D0%BD%D1%81%D0%B5%D1%80%D0%B0_ipynb%22.ipynb\" target=\"_parent\"><img src=\"https://colab.research.google.com/assets/colab-badge.svg\" alt=\"Open In Colab\"/></a>"
      ]
    },
    {
      "cell_type": "markdown",
      "source": [
        "# Программа интенсива\n",
        "**1 день**: учимся работать с API и собираем данные о вакансиях в таблицу\n",
        "\n",
        "**2 день**: делаем продвинутую аналитику (Data Mining) с помощью методов NLP\n",
        "\n",
        "**3 день**: автоматизируем рутинные задачи - учимся отправлять данные по email\n",
        "\n",
        "<img src='https://drive.google.com/uc?export=view&id=1dPn3lqw2RD2QVJvxyLKI1sFJ2Q_Fc61I' height=350 border='0' alt='1 день: учимся работать с API и собираем данные о вакансиях в таблицу. 2 день: делаем продвинутую аналитику (Data Mining) с помощью методов NLP. 3 день: автоматизируем рутинные задачи - учимся отправлять данные по email'>\n",
        "\n",
        "[Ссылка](https://colab.research.google.com/drive/1zTxohoOF1eLatEJXT9zsKwM6E0LCOfuA?usp=sharing) на незаполненную рабочую тетрадь\n"
      ],
      "metadata": {
        "id": "eWgYpFsiqzh0"
      }
    },
    {
      "cell_type": "markdown",
      "source": [
        "# 1 день: учимся работать с API и собираем данные о вакансиях в таблицу"
      ],
      "metadata": {
        "id": "HhfY8aFErRER"
      }
    },
    {
      "cell_type": "markdown",
      "source": [
        "[Презентация - День 1](https://docs.google.com/presentation/d/1R4lj_CadeV0G8CZLUfA2byHht0bhWR_5dmSLcX9ATqY/edit?usp=sharing)\n",
        "\n",
        "Запись эфира: [Что умеет Python-фрилансер. Учимся собирать информацию в интернете](https://live.skillbox.ru/webinars/code/chto-umeet-python-frilanser-uchimsya-sobirat-informaciyu-v-internete150523/)"
      ],
      "metadata": {
        "id": "wmnvZldrtRbM"
      }
    },
    {
      "cell_type": "markdown",
      "source": [
        "## Сначала посмотрим на результат"
      ],
      "metadata": {
        "id": "QAc8WsEjRrHp"
      }
    },
    {
      "cell_type": "code",
      "source": [
        "import time\n",
        "import json\n",
        "import requests\n",
        "from IPython.display import display, clear_output\n",
        "import tqdm\n",
        "\n",
        "import pandas as pd\n",
        "from collections import Counter\n",
        "from wordcloud import WordCloud\n",
        "\n",
        "\n",
        "def dump_json(obj, filename):\n",
        "    \"\"\"Функция сохранения JSON-файла на диск\"\"\"\n",
        "    with open(filename, 'w', encoding='UTF-8') as f:\n",
        "        json.dump(obj, f, ensure_ascii=False, indent=4)\n",
        "\n",
        "\n",
        "def get_vacancies(text=\"python\", \n",
        "                  experience=None, employment=None, schedule=None):\n",
        "    \"\"\"Функция для скачивания данных по API HeadHunter\"\"\"\n",
        "    params = {\n",
        "            \"per_page\": 100,\n",
        "            \"page\": 0,\n",
        "            \"period\": 30,\n",
        "            \"text\": text,\n",
        "            \"experience\": experience,\n",
        "            \"employment\": employment,\n",
        "            \"schedule\": schedule,\n",
        "        }\n",
        "\n",
        "    res = requests.get(\"https://api.hh.ru/vacancies\", params=params)\n",
        "    if not res.ok:\n",
        "        print('Error:', res)\n",
        "    vacancies = res.json()[\"items\"]\n",
        "    pages = res.json()['pages']\n",
        "\n",
        "    for page in tqdm.trange(1, pages):\n",
        "        params['page'] = page\n",
        "        res = requests.get(\"https://api.hh.ru/vacancies\", params=params)\n",
        "        if res.ok:\n",
        "            response_json = res.json()\n",
        "            vacancies.extend(response_json[\"items\"])\n",
        "        else:\n",
        "            print(res)\n",
        "    \n",
        "    dump_json(vacancies, 'vacancies.json')\n",
        "\n",
        "    return vacancies\n",
        "\n",
        "\n",
        "def get_full_descriptions(vacancies):\n",
        "    \"\"\"Функция для скачивания полного описания вакансий (работает 20 минут!)\"\"\"\n",
        "    vacancies_full = []\n",
        "    for entry in tqdm.tqdm(vacancies):\n",
        "        vacancy_id = entry['id']\n",
        "        description = requests.get(f\"https://api.hh.ru/vacancies/{vacancy_id}\")\n",
        "        vacancies_full.append(description.json())\n",
        "        print(description.json())\n",
        "        time.sleep(0.2)\n",
        "        clear_output()\n",
        "\n",
        "    dump_json(vacancies_full, 'vacancies_full.json')\n",
        "\n",
        "    return vacancies_full\n",
        "\n",
        "\n",
        "def load_from_google_drive(file_id, filename):\n",
        "    \"\"\"Функция для загрузки уже скаченного файла вместо get_full_descriptions\"\"\"\n",
        "    url = f\"https://drive.google.com/uc?export=view&id={file_id}\"\n",
        "    res = requests.get(url)\n",
        "    data = res.json()\n",
        "    dump_json(data, filename)\n",
        "    return data\n",
        "\n",
        "\n",
        "vacancies = get_vacancies()\n",
        "print('Загружено', len(vacancies), 'вакансий')\n",
        "\n",
        "\n",
        "# vacancies_full = get_full_descriptions(vacancies)  # Выполняется ≈20 мин\n",
        "vacancies_full = load_from_google_drive('1d2NfxfM2n48m5WS6oCCc3rcQ4hdnTQ1v',\n",
        "                                        'vacancies_full.json')\n",
        "\n",
        "all_skills = []\n",
        "for vacancy in vacancies_full:\n",
        "    for skill in vacancy['key_skills']:\n",
        "        all_skills.append(skill['name'])\n",
        "\n",
        "frequencies = Counter(all_skills)\n",
        "\n",
        "pd.DataFrame(vacancies).to_excel('Cписок вакансий.xlsx')\n",
        "pd.DataFrame(vacancies_full).to_excel('Подробное описание вакансий.xlsx')\n",
        "\n",
        "print('Топ навыков Python-разработчика:')\n",
        "cloud = WordCloud(background_color=\"white\")\n",
        "cloud.generate_from_frequencies(frequencies=frequencies).to_image().show()"
      ],
      "metadata": {
        "id": "Ej9p8LWYcL7w",
        "colab": {
          "base_uri": "https://localhost:8080/",
          "height": 269
        },
        "outputId": "e36b5313-3b06-43de-fea7-21a08401423c"
      },
      "execution_count": null,
      "outputs": [
        {
          "output_type": "stream",
          "name": "stderr",
          "text": [
            "100%|██████████| 19/19 [00:19<00:00,  1.02s/it]\n"
          ]
        },
        {
          "output_type": "stream",
          "name": "stdout",
          "text": [
            "Загружено 2000 вакансий\n",
            "Топ навыков Python-разработчика:\n"
          ]
        },
        {
          "output_type": "display_data",
          "data": {
            "text/plain": [
              "<PIL.Image.Image image mode=RGB size=400x200 at 0x7F8612CEEDD0>"
            ],
            "image/png": "[encoded data removed]"
          },
          "metadata": {}
        }
      ]
    },
    {
      "cell_type": "markdown",
      "source": [
        "## 0 Справка по Python"
      ],
      "metadata": {
        "id": "y8NMCoRWAds1"
      }
    },
    {
      "cell_type": "markdown",
      "source": [
        "📝 **Переменная** - место в памяти, в котором хранятся данные и которому дали имя (аналог `x`, `y`, `V_куба` в школьных формулах)\n",
        "\n",
        "📝 **Текст** - тип данных, обозначающий пользовательский текст. Чтобы отделяться от названий перееменных и функций, заключается в кавычки.\n",
        "\n",
        "Напр. `welcome_message = \"Hello\"`\n",
        "\n",
        "📝 **Число** - числовой тип данных. Обозначение как в калькуляторах без кавычек: `2 + 2`. Десятичная часть записывается через точку: `3.1415`. \n",
        "\n",
        "📝 **True/False** - бинарный или булевый тип (bool) тип данных, имеющий 2 значения: истина (`True`) или ложь (`False`). Применяется, например, в выражениях сравнения: `1 > 3 вернет False`, `1 in [0, 1, 2, 3] вернет True`.\n",
        "\n",
        "📝 **None** - тип данных \"ничто\", имеющий единственное значение. Нужен как заглушка в тех местах, где значение явно не указано. Например, `[{'employer': 1, 'remote': True}, {'employer': 2, 'remote': None}]` - первый работодатель указал, что удаленка возможна, а второй - не указал ничего.\n"
      ],
      "metadata": {
        "id": "jMOOoGolApTl"
      }
    },
    {
      "cell_type": "code",
      "source": [
        "welcome_message = 'Hello'"
      ],
      "metadata": {
        "id": "z3UvFnwLy2OU"
      },
      "execution_count": null,
      "outputs": []
    },
    {
      "cell_type": "code",
      "source": [],
      "metadata": {
        "id": "C2vYb2H_y6uJ"
      },
      "execution_count": null,
      "outputs": []
    },
    {
      "cell_type": "code",
      "source": [
        "2 + 2 > 4"
      ],
      "metadata": {
        "id": "AQoR4ZWoy8SF"
      },
      "execution_count": null,
      "outputs": []
    },
    {
      "cell_type": "code",
      "source": [],
      "metadata": {
        "id": "9_YXJ2c9zOq_"
      },
      "execution_count": null,
      "outputs": []
    },
    {
      "cell_type": "code",
      "source": [
        "remote = None"
      ],
      "metadata": {
        "id": "BvAWQSwXzJMf"
      },
      "execution_count": null,
      "outputs": []
    },
    {
      "cell_type": "code",
      "source": [],
      "metadata": {
        "id": "SkGOvSdCzOJ3"
      },
      "execution_count": null,
      "outputs": []
    },
    {
      "cell_type": "markdown",
      "source": [
        "📝 **Список** - структура данных, в которой может хранится много значений. Значения записываются через запятую в квадратных скобках.\n",
        "\n",
        "Напр. `['Python-разработчик', 6]`\n",
        "\n",
        "Ключевые методы: \n",
        "* `<имя переменной-списка>.append(<один элемент>)` - добавить в конец списка один элемент\n",
        "* `<имя переменной-списка>.extend(<другой список>)` - последовательно добавить все элементы из другого списка в исходный\n",
        "\n",
        "Мы можем считывать и перезаписывать элементы **индексу** - номеру от начала: `skills[0] = 'стрессоустойчивость'` (нумерация с 0).\n",
        "\n",
        "📝 **Словарь** - структура данных, в которых значения хранятся по **ключу**. Записываются как пары `ключ: значение` через запятую в фигурных скобках.\n",
        "\n",
        "Напр. `{'profession': 'Python-разработчик', 'months': 6}`.\n",
        "\n",
        "Мы можем считывать и перезаписывать элементы по *ключу*: `course['profession'] = 'Python Developer'`\n",
        "\n",
        "Типы данных могут комбинироваться как угодно: список словарей с вложенными списками словарей..."
      ],
      "metadata": {
        "id": "EMmYm03fzELp"
      }
    },
    {
      "cell_type": "code",
      "source": [],
      "metadata": {
        "id": "HMAK83FCzQYB"
      },
      "execution_count": null,
      "outputs": []
    },
    {
      "cell_type": "markdown",
      "source": [
        "### ✍ Упражнения на типы данных\n",
        "\n",
        "1. Создайте список с любыми 5 навыками, которые указаны в картинке с облаком ключевых слов в первой ячейке (Python, Django, SQL, PostgreSQL, Flask, Linux, и т.д.). Помним про то, что название навыка - это текст, поэтому он должен заключаться в кавычки.\n",
        "\n",
        " Выведите на экран нулевой, второй и последний элемент списка.\n",
        "\n",
        "2. Создайте словарь `jobs` следующей структуры и выведите на экран: \n",
        "  * ключ - `\"навык\"`, значение - `\"Python\"`\n",
        "  * ключ - `\"удаленка\"`, значение - `None`\n",
        "\n",
        "  Следующей командой перезапишите для ключа `\"удаленка\"` значение с `None` на `True` (доступ к значению по ключу - через квадратные скобки) и выведите новую версию словаря на экран.\n",
        "\n",
        "3. 💪 (Задание со \\*) Создайте список из трех словарей:\n",
        "  * каждый словарь содержит ключ `'id'`, который последовательно увеличивается от 1 до 3 (цифры никаких кавычек не требуют)\n",
        "  * каждый словарь содержит ключ `'skills'`, который содержит список навыков любой длины, включая пустой список (пустой список обозначается `[]`)\n",
        "  * каждый словарь содержит ключ `'area'`, который сам является словарем с ключами: `'name'` - название города и `'remote'` - возможность удаленки (может принимать 3 значения: `True`, `False` или None).\n",
        "\n",
        "  Из получившегося объекта выведите название города в последнем элементе, а также первый навык нулевого элемента."
      ],
      "metadata": {
        "id": "vr8GSp_JAuHv"
      }
    },
    {
      "cell_type": "markdown",
      "source": [
        "## 1 Работа с API, формат JSON"
      ],
      "metadata": {
        "id": "N76YUGQahHHp"
      }
    },
    {
      "cell_type": "markdown",
      "source": [
        "📝 **JSON** (JavaScript Object Notation) - текстовый формат хранения данных в виде словарей и списков.\n",
        "\n",
        "Запись почти не отличается от словарей и списков в Python.\n",
        "\n",
        "```json\n",
        "[\n",
        "    {\"id\": 123, \n",
        "     \"key_skills\": [\n",
        "        {\"name\": \"Python\"}, \n",
        "        {\"name\": \"SQL\"}]\n",
        "    },\n",
        "    {\"id\": 345, \n",
        "     \"key_skills\": [\n",
        "        {\"name\": \"Web\"}]\n",
        "    },\n",
        "]\n",
        "```"
      ],
      "metadata": {
        "id": "Xih781TYhPfg"
      }
    },
    {
      "cell_type": "markdown",
      "source": [
        "### 1.1 Для работы с API используем библиотеку requests\n",
        "\n",
        "📝 Мы можем использовать функции за пределами стандартной бибилотеки - для этого мы **подключаем пакеты**\n",
        "\n",
        "У запроса есть следующие компоненты:\n",
        "* URL - адрес для запроса\n",
        "* params - параметры для поиска данных\n",
        "* header - заголовок (например, данные для авторизации)\n",
        "\n",
        "Возвращается: ответ HTTP (например, 200 Ok) + данные. Наиболее распространена передача данных в формате JSON."
      ],
      "metadata": {
        "id": "qovV3fJBj_X6"
      }
    },
    {
      "cell_type": "markdown",
      "source": [
        "Описание методов API сайта HH.ru: https://github.com/hhru/api/blob/master/docs/vacancies.md#search\n",
        "\n",
        "Ограничения API:\n",
        "* Не более 2000 вакансий\n",
        "* Не более 30 дней"
      ],
      "metadata": {
        "id": "qYMStw9YouDi"
      }
    },
    {
      "cell_type": "code",
      "source": [
        "# Подключаем библиотеку"
      ],
      "metadata": {
        "id": "RX3fjYxbn5-f"
      },
      "execution_count": null,
      "outputs": []
    },
    {
      "cell_type": "code",
      "source": [
        "# Пример запроса, не требующего авторизации: 'http://api.hh.ru/vacancies'"
      ],
      "metadata": {
        "id": "adSs_NfKn6Aw"
      },
      "execution_count": null,
      "outputs": []
    },
    {
      "cell_type": "code",
      "source": [],
      "metadata": {
        "id": "K3NbcxQfn6DM"
      },
      "execution_count": null,
      "outputs": []
    },
    {
      "cell_type": "markdown",
      "source": [
        "📝 **Функция** - набор команд, которые объединили под одним именем и дали возможность заменять параметры\n",
        "\n",
        "* `def` - ключевое слово, которое говорит, что далее идет объявление функции\n",
        "* Название придумываем сами (главное, чтобы начиналось с буквы или с _)\n",
        "* В скобках указываем параметры через запятую. Можно указать значение по умолчанию через равно.\n",
        "* После скобок - двоеточие\n",
        "* Мы понимаем, где начало и конец функции по отступам в начале строки\n",
        "* (опционально) Функция может вернуть значение с помощью ключевого слова `return`"
      ],
      "metadata": {
        "id": "Q05kcOrdpBHH"
      }
    },
    {
      "cell_type": "code",
      "source": [
        "# Пример: функция add на вход получает 2 числа a и b и возвращает их сумму\n"
      ],
      "metadata": {
        "id": "NuEhcMpKn6G_"
      },
      "execution_count": null,
      "outputs": []
    },
    {
      "cell_type": "code",
      "source": [],
      "metadata": {
        "id": "jO18lf5Kqn23"
      },
      "execution_count": null,
      "outputs": []
    },
    {
      "cell_type": "markdown",
      "source": [
        "📝 Ключевое слово **with** позволяет открывать и автоматически закрывать файлы"
      ],
      "metadata": {
        "id": "387Jgr4lrjws"
      }
    },
    {
      "cell_type": "code",
      "source": [
        "# Напишем функцию для сохранения файла в формате JSON на диск"
      ],
      "metadata": {
        "id": "3oUuAmnTrjBr"
      },
      "execution_count": null,
      "outputs": []
    },
    {
      "cell_type": "code",
      "source": [],
      "metadata": {
        "id": "rf__Mdweqn8K"
      },
      "execution_count": null,
      "outputs": []
    },
    {
      "cell_type": "markdown",
      "source": [
        "### 1.2 Напишем функцию для загрузки вакансий за месяц\n",
        "\n",
        "📝 Ключевое слово **for** говорит буквально \"для каждого элемента из списка выполнить набор действий\"\n",
        "\n",
        "* После выражения `for ... in ...` ставится двоеточие\n",
        "* Границы набора команд как в случае с функцией определяются по отступу в начале строки"
      ],
      "metadata": {
        "id": "sRWi7ogHr4cq"
      }
    },
    {
      "cell_type": "code",
      "source": [
        "# Пример: для каждого элемента (назовем item) из списка [1, 2, 3]: умножить на 2 и напечатать результат"
      ],
      "metadata": {
        "id": "nkdM4Jliqn-h"
      },
      "execution_count": null,
      "outputs": []
    },
    {
      "cell_type": "code",
      "source": [],
      "metadata": {
        "id": "C07O9ZC8qoBY"
      },
      "execution_count": null,
      "outputs": []
    },
    {
      "cell_type": "markdown",
      "source": [
        "📝 Ключевое слово **if** добавляет возможность выбора действия в зависимости от ситуации"
      ],
      "metadata": {
        "id": "zMKfLtdQz2Sz"
      }
    },
    {
      "cell_type": "code",
      "source": [],
      "metadata": {
        "id": "fW0AbWOf0By9"
      },
      "execution_count": null,
      "outputs": []
    },
    {
      "cell_type": "markdown",
      "source": [
        "Библиотека `tqdm` предоставляет функции для визуализации прогресса"
      ],
      "metadata": {
        "id": "9ABTa5KiwZqi"
      }
    },
    {
      "cell_type": "code",
      "source": [
        "# Функция для загрузки данных за месяц:\n"
      ],
      "metadata": {
        "id": "4-5ehsnltnLt"
      },
      "execution_count": null,
      "outputs": []
    },
    {
      "cell_type": "markdown",
      "source": [
        "## 2 Загрузим полное описание для каждой вакансии"
      ],
      "metadata": {
        "id": "NwRRrPgOtr6m"
      }
    },
    {
      "cell_type": "markdown",
      "source": [
        "`vacancies` представляет собой *список словарей*. Для каждого элемента из списка `vacancies` берем ключ `id` и подставляем в запрос `f\"https://api.hh.ru/vacancies/{vacancy_id}\"`.\n",
        "\n",
        "Буква `f` перед кавычками обозначает \"форматную строку\", которая позволяет подставить значение в фигурных скобках.\n",
        "\n",
        "| Берем id  |  | Получаем набор запросов | \n",
        "| -------- | ----------- | -----------|\n",
        "| `[{'id': 1},`<br>`{'id': 2},`<br>` {'id': 3}]` | → | `https://api.hh.ru/vacancies/1`<br>`https://api.hh.ru/vacancies/2`<br>`https://api.hh.ru/vacancies/3` |"
      ],
      "metadata": {
        "id": "wI2SCgYJCWsQ"
      }
    },
    {
      "cell_type": "code",
      "source": [],
      "metadata": {
        "id": "lxeRSBrYtyhx"
      },
      "execution_count": null,
      "outputs": []
    },
    {
      "cell_type": "code",
      "source": [],
      "metadata": {
        "id": "AOn72OSTtykI"
      },
      "execution_count": null,
      "outputs": []
    },
    {
      "cell_type": "markdown",
      "source": [
        "При запуске 2000 последовательных запросов вскоре сайт начнет запрашивать капчу и вместо результата возвращать ошибку HTTP 403 Forbidden.\n",
        "\n",
        "Это можно обойти, поставив небольшой таймаут (функция `time.sleep`) хотя бы на 0.2 секунды. В этом случае запрос будет выполняться примерно 20 минут. Чтобы сэкономить себе время - загрузим уже подготовленные данные."
      ],
      "metadata": {
        "id": "jFDU9i7yeK5m"
      }
    },
    {
      "cell_type": "markdown",
      "source": [
        "Как был получен id файла на Google Drive:\n",
        "\n",
        "Щелчок правой кнопкой мыши → \"Открыть доступ\" либо \"Получить ссылку\" → Вместо \"Доступ ограничен\" выбрать \"Все, у кого есть ссылка\" → \"Копировать ссылку\" → \"Готово\"\n",
        "\n",
        "id файла - это длинная последовательность символов между `file/d/` и `/view?usp=sharing`:\n",
        "\n",
        "drive.google.com/file/d/**1d2NfxfM2n48m5WS6oCCc3rcQ4hdnTQ1v**/view?usp=sharing"
      ],
      "metadata": {
        "id": "0E34QgRkiXmr"
      }
    },
    {
      "cell_type": "code",
      "source": [
        "vacancies_full "
      ],
      "metadata": {
        "id": "iEzw7O4Etymm"
      },
      "execution_count": null,
      "outputs": []
    },
    {
      "cell_type": "code",
      "source": [],
      "metadata": {
        "id": "o7yZG6_Atyo5"
      },
      "execution_count": null,
      "outputs": []
    },
    {
      "cell_type": "code",
      "source": [],
      "metadata": {
        "id": "7n378ST6tyre"
      },
      "execution_count": null,
      "outputs": []
    },
    {
      "cell_type": "markdown",
      "source": [
        "## 3 Посчитаем частоты упоминания навыков"
      ],
      "metadata": {
        "id": "Ymfa56btjsfY"
      }
    },
    {
      "cell_type": "markdown",
      "source": [
        "\n",
        "\n",
        "| Список словарей |  | Простой список | \n",
        "| -------- | ----------- | -----------|\n",
        "| `'key_skills' = [{'name': 'Python'},`<br>` {'name': 'Django'},`<br>` {'name': 'asyncio'}]` | → | `['Python', 'Django', 'asyncio']` |"
      ],
      "metadata": {
        "id": "EfxnHTUHOFa3"
      }
    },
    {
      "cell_type": "code",
      "source": [
        "# Составим список all_skills взяв ключ ['name'] у каждого навыка (skill) \n",
        "# каждой вакансии (vacancy) в списке vacancies_full\n"
      ],
      "metadata": {
        "id": "2HVfLGHJRlRj"
      },
      "execution_count": null,
      "outputs": []
    },
    {
      "cell_type": "markdown",
      "source": [
        "Посчитаем частоту с помощью функции `Counter` из библиотеки `collections`\n",
        "\n",
        "Метод `most_common()` отсортирует слова по убыванию"
      ],
      "metadata": {
        "id": "yGxp35PwkFK-"
      }
    },
    {
      "cell_type": "code",
      "source": [
        "from collections import Counter\n",
        "\n",
        "# frequencies = ..."
      ],
      "metadata": {
        "id": "oimyfuIkMWMl"
      },
      "execution_count": null,
      "outputs": []
    },
    {
      "cell_type": "markdown",
      "source": [
        "## 4 Визуализируем облако слов"
      ],
      "metadata": {
        "id": "svvm5_s7kdPR"
      }
    },
    {
      "cell_type": "code",
      "source": [
        "from wordcloud import WordCloud\n",
        "\n",
        "# При создании облака задаем цвет фона background_color=\"white\"\n",
        "# cloud = ...\n",
        "\n",
        "# Облако слов генерируем из словаря частотности с помощью метода \n",
        "# generate_from_frequencies\n",
        "\n",
        "# Преобразование в картинку и визуализация: .to_image().show()\n"
      ],
      "metadata": {
        "id": "rw64CRlwT9lG"
      },
      "execution_count": null,
      "outputs": []
    },
    {
      "cell_type": "code",
      "source": [],
      "metadata": {
        "id": "5S33nL2eQ5Zy"
      },
      "execution_count": null,
      "outputs": []
    },
    {
      "cell_type": "markdown",
      "source": [
        "## 5 Сохраняем данные в виде таблицы"
      ],
      "metadata": {
        "id": "Yhtd_y7nJrP4"
      }
    },
    {
      "cell_type": "code",
      "source": [
        "import pandas as pd"
      ],
      "metadata": {
        "id": "RypMIn8_JuN7"
      },
      "execution_count": null,
      "outputs": []
    },
    {
      "cell_type": "markdown",
      "source": [
        "Для работы с таблицами будем использовать объект [DataFrame](https://pandas.pydata.org/docs/reference/api/pandas.DataFrame.html) из библиотеки pandas.\n",
        "\n",
        "Объект DataFrame можно использовать как словарь, где ключи - названия колонок, а данные хранятся в колонке списком.\n",
        "\n",
        "Метод `to_excel` сохраняет объект в файл в виде Excel-таблицы."
      ],
      "metadata": {
        "id": "zgZHAU1mJ48_"
      }
    },
    {
      "cell_type": "code",
      "source": [],
      "metadata": {
        "id": "Bk_vqQIjJ18c"
      },
      "execution_count": null,
      "outputs": []
    },
    {
      "cell_type": "markdown",
      "source": [
        "### ✍ Упражнение на работу с API\n",
        "\n",
        "Узнайте, **какие параметры для поиска можно задать**, помимо поиска по тексту.\n",
        "\n",
        "Получите JSON с ответом от метода API https://api.hh.ru/dictionaries и выведите, какие параметры можно задавать для ключей `'experience'`, `'employment'`, `'schedule'`.\n",
        "\n",
        "Какие еще параметры запроса доступны, можно посмотреть в документации: https://github.com/hhru/api/blob/master/docs/vacancies.md#search\n",
        "\n",
        "💪 (Задание со \\*) **Постройте облако ключевых слов для нового запроса** (для загрузки новых данных не забудьте заменить функцию `load_from_google_drive` на `get_full_descriptions`)"
      ],
      "metadata": {
        "id": "HYhc9lUrK_fe"
      }
    },
    {
      "cell_type": "code",
      "source": [],
      "metadata": {
        "id": "w7KDifvOLnp6"
      },
      "execution_count": null,
      "outputs": []
    },
    {
      "cell_type": "markdown",
      "source": [
        "# 2 день: Data Mining"
      ],
      "metadata": {
        "id": "6JNejzass9Q0"
      }
    },
    {
      "cell_type": "markdown",
      "source": [
        "[Презентация - День 2](https://docs.google.com/presentation/d/1nB-yG3DKkRqMHvftTQboM7J9r600VGu5v4QRhjnejjU/edit?usp=sharing)"
      ],
      "metadata": {
        "id": "gXEgSLOetIfF"
      }
    },
    {
      "cell_type": "markdown",
      "source": [
        "Data Mining (с англ. буквально «добыча данных») — интеллектуальный анализ данных.\n",
        "\n",
        "* Извлечение полезной «скрытой» информации из большого объёма данных.\n",
        "\n",
        "* Структурирование для дальнейшего использования\n",
        "(например, сохранение в Excel).\n",
        "\n",
        "\n",
        "Natural Language Processing, NLP — методы обработки естественного языка."
      ],
      "metadata": {
        "id": "Px0NPRpatIh8"
      }
    },
    {
      "cell_type": "markdown",
      "source": [
        "Сегодня мы будем разбирать информацию в поле `'description'` - в описании вакансии"
      ],
      "metadata": {
        "id": "VQ4xzJ8AtImp"
      }
    },
    {
      "cell_type": "code",
      "source": [
        "import time\n",
        "import json\n",
        "import requests\n",
        "from IPython.display import display, clear_output\n",
        "import tqdm\n",
        "\n",
        "import pandas as pd\n",
        "from collections import Counter\n",
        "from wordcloud import WordCloud\n",
        "\n",
        "\n",
        "def dump_json(obj, filename):\n",
        "    \"\"\"Функция сохранения JSON-файла на диск\"\"\"\n",
        "    with open(filename, 'w', encoding='UTF-8') as f:\n",
        "        json.dump(obj, f, ensure_ascii=False, indent=4)\n",
        "\n",
        "\n",
        "def load_from_google_drive(file_id, filename):\n",
        "    \"\"\"Функция для загрузки уже скаченного файла вместо get_full_descriptions\"\"\"\n",
        "    url = f\"https://drive.google.com/uc?export=view&id={file_id}\"\n",
        "    res = requests.get(url)\n",
        "\n",
        "    vacancies_full = res.json()\n",
        "\n",
        "    dump_json(vacancies_full, filename)\n",
        "\n",
        "    return vacancies_full\n",
        "\n",
        "# Загрузили сохраненный список вакансий\n",
        "vacancies_full = load_from_google_drive('1d2NfxfM2n48m5WS6oCCc3rcQ4hdnTQ1v',\n",
        "                                        'vacancies_full.json')\n",
        "\n",
        "all_skills = []\n",
        "for vacancy in vacancies_full:\n",
        "    for skill in vacancy['key_skills']:\n",
        "        all_skills.append(skill['name'])\n",
        "\n",
        "frequencies = Counter(all_skills)\n",
        "\n",
        "print('Топ навыков Python-разработчика:')\n",
        "cloud = WordCloud(background_color=\"white\")\n",
        "cloud.generate_from_frequencies(frequencies=frequencies).to_image().show()"
      ],
      "metadata": {
        "colab": {
          "base_uri": "https://localhost:8080/",
          "height": 234
        },
        "id": "NsFyxVyTuMI7",
        "outputId": "319f4710-7328-4368-e76e-630ebd0a2b61"
      },
      "execution_count": null,
      "outputs": [
        {
          "output_type": "stream",
          "name": "stdout",
          "text": [
            "Топ навыков Python-разработчика:\n"
          ]
        },
        {
          "output_type": "display_data",
          "data": {
            "text/plain": [
              "<PIL.Image.Image image mode=RGB size=400x200 at 0x7F309EDE2F70>"
            ],
            "image/png": "[encoded data removed]"
          },
          "metadata": {}
        }
      ]
    },
    {
      "cell_type": "markdown",
      "source": [
        "## 1 Выделим данные о вакансиях"
      ],
      "metadata": {
        "id": "Mu0-72WkwKP1"
      }
    },
    {
      "cell_type": "code",
      "source": [
        "# Создадим таблицу формата vacancies_df из словаря vacancies_full\n",
        "vacancies_df = ..."
      ],
      "metadata": {
        "id": "OAW8G3fYuMLR"
      },
      "execution_count": null,
      "outputs": []
    },
    {
      "cell_type": "markdown",
      "source": [
        "С таблицей DataFrame можно работать как со словарем: ключ - название колонки, значение - данные в колонке.\n",
        "\n",
        "* `vacancies_df['description']` - список значений в колонке description\n",
        "* `vacancies_df['description'][0]` - как из обычного списка мы можем получить элемент по порядковому номеру (нумерация с нуля)"
      ],
      "metadata": {
        "id": "lm5OBHLvxlpN"
      }
    },
    {
      "cell_type": "code",
      "source": [],
      "metadata": {
        "id": "uX4YWJqauMNj"
      },
      "execution_count": null,
      "outputs": []
    },
    {
      "cell_type": "code",
      "source": [],
      "metadata": {
        "id": "VIxHzdUtvsKj"
      },
      "execution_count": null,
      "outputs": []
    },
    {
      "cell_type": "markdown",
      "source": [
        "❗ Сначала **научимся обрабатывать 1 запись**, потом перейдем к обработке всего массива данных"
      ],
      "metadata": {
        "id": "g6MnCE0Fy5ZB"
      }
    },
    {
      "cell_type": "code",
      "source": [
        "vacancy = vacancies_df['description'][0]"
      ],
      "metadata": {
        "id": "AfX0s1PjzP_B"
      },
      "execution_count": null,
      "outputs": []
    },
    {
      "cell_type": "markdown",
      "source": [
        "### ✍ Упражнение (выполните после полного просмотра вебинара) \n",
        "\n",
        "Вернитесь к ячейке выше с кодом `vacancy = vacancies_df['description'][0]` и выберите другую запись в таблице (замените 0 на другое число). Посмотрите, как изменится вывод в ячейках при замене входных данных"
      ],
      "metadata": {
        "id": "-pVffK0rzdF_"
      }
    },
    {
      "cell_type": "markdown",
      "source": [
        "## 2 Уберем HTML-тэги"
      ],
      "metadata": {
        "id": "trMi_7bVw6Rv"
      }
    },
    {
      "cell_type": "markdown",
      "source": [
        "<h1><span style=\"color:#000000; font-family:Arial\"><span style=\"font-size:24px\"><strong>HTML - что представляют из себя интернет страницы</strong></span></span></h1>\n",
        "\n",
        "<p><span style=\"font-size:16pt\"><span style=\"font-family:Arial\"><span style=\"color:#000000\"><strong>HTML</strong></span></span></span><span style=\"font-size:16pt\"><span style=\"font-family:Arial\"><span style=\"color:#000000\"> (HyperText Markup Language) - язык разметки для веб-страниц</span></span></span></p>\n",
        "\n",
        "<p><span style=\"font-size:16pt\"><span style=\"font-family:Arial\"><span style=\"color:#000000\">Пример: таблицы</span></span></span></p>\n",
        "\n",
        "<table border=\"1\" cellpadding=\"1\" cellspacing=\"1\" style=\"width:295px\">\n",
        "   <tbody>\n",
        "       <tr>\n",
        "           <td style=\"width:106px\">&lt;table&gt;&lt;/table&gt;</td>\n",
        "           <td style=\"width:173px\">Заголовок таблицы</td>\n",
        "       </tr>\n",
        "       <tr>\n",
        "           <td style=\"width:106px\">&lt;tr&gt;&lt;/tr&gt;</td>\n",
        "           <td style=\"width:173px\">Границы строки</td>\n",
        "       </tr>\n",
        "       <tr>\n",
        "           <td style=\"width:106px\">&lt;td&gt;&lt;/td&gt;</td>\n",
        "           <td style=\"width:173px\">Границы ячейки</td>\n",
        "       </tr>\n",
        "   </tbody>\n",
        "</table>\n"
      ],
      "metadata": {
        "id": "5ygQb_qTtIkC"
      }
    },
    {
      "cell_type": "markdown",
      "source": [
        "📝 **Парсинг** (parsing) — выделение значимых элементов из информации (не обязательно с веб-сайтов)"
      ],
      "metadata": {
        "id": "Y9hPK_Qr5wUH"
      }
    },
    {
      "cell_type": "markdown",
      "source": [
        "Для работы с HTML можно использовать библиотеку [BeautifulSoup](https://www.crummy.com/software/BeautifulSoup/bs4/doc/)"
      ],
      "metadata": {
        "id": "pgwQfEXNw-mj"
      }
    },
    {
      "cell_type": "code",
      "source": [
        "import bs4"
      ],
      "metadata": {
        "id": "Ny-jBUnguMPr"
      },
      "execution_count": null,
      "outputs": []
    },
    {
      "cell_type": "markdown",
      "source": [
        "Очистим тэги, оставив только текст.\n",
        "\n",
        "`bs4.BeautifulSoup(vacancy)` - \"парсит\", т.е. разбирает на элементы. `.text` оставляет только текстовое наполнение"
      ],
      "metadata": {
        "id": "ry5BLHcPtIow"
      }
    },
    {
      "cell_type": "code",
      "source": [
        "text = ..."
      ],
      "metadata": {
        "id": "DmbckoZ3xeQt"
      },
      "execution_count": null,
      "outputs": []
    },
    {
      "cell_type": "code",
      "source": [],
      "metadata": {
        "id": "-xajLOXW6S4A"
      },
      "execution_count": null,
      "outputs": []
    },
    {
      "cell_type": "markdown",
      "source": [
        "## 3 Разберем текст на предложения"
      ],
      "metadata": {
        "id": "krU1T_naxaek"
      }
    },
    {
      "cell_type": "markdown",
      "source": [
        "Функции для анализа текста и приведения слов к нормальной форме возьмем из natasha. Вначале ее нужно скачать\n",
        "\n",
        "📝 Знак ! в начале блока кода говорит о том, что мы переходим от кода на Python к командам операционной системы"
      ],
      "metadata": {
        "id": "6GBTcA9H6gXv"
      }
    },
    {
      "cell_type": "code",
      "source": [
        "!pip install natasha"
      ],
      "metadata": {
        "id": "BDDy7SPK6eAb"
      },
      "execution_count": null,
      "outputs": []
    },
    {
      "cell_type": "code",
      "source": [
        "from natasha import Doc, MorphVocab, NewsEmbedding, NewsMorphTagger, Segmenter"
      ],
      "metadata": {
        "id": "S0zbDLoK69PH"
      },
      "execution_count": null,
      "outputs": []
    },
    {
      "cell_type": "markdown",
      "source": [
        "Наша цель - преобразовать все слова к начальной форме:\n",
        "\n",
        "`'Компания ищет разработчика для работы над проектом'` → `['компания', 'искать', 'разработчик', 'для', 'работа', 'над', 'проект]`"
      ],
      "metadata": {
        "id": "xq-H0Op88IPi"
      }
    },
    {
      "cell_type": "code",
      "source": [
        "#  Сегментация - разбиение на слова и предложения\n",
        "segmenter = Segmenter()\n",
        "\n",
        "# Морфологический разбор - генерируются формы слова\n",
        "embedding = NewsEmbedding()\n",
        "morph_tagger = NewsMorphTagger(embedding)\n",
        "morph_vocab = MorphVocab()\n",
        "\n",
        "# Объект документа (в нашем примере документ = описание одной вакансии)\n",
        "doc = Doc(text)"
      ],
      "metadata": {
        "id": "gb6V6ngZ7DLj"
      },
      "execution_count": null,
      "outputs": []
    },
    {
      "cell_type": "markdown",
      "source": [
        "Посмотрим, как будет дополняться информация о документе"
      ],
      "metadata": {
        "id": "QdrdNgIp76sa"
      }
    },
    {
      "cell_type": "code",
      "source": [
        "doc"
      ],
      "metadata": {
        "colab": {
          "base_uri": "https://localhost:8080/"
        },
        "id": "RuwlGkNB7sT3",
        "outputId": "56e7d4e7-339d-46e3-b9f9-cbcf104686ce"
      },
      "execution_count": null,
      "outputs": [
        {
          "output_type": "execute_result",
          "data": {
            "text/plain": [
              "Doc(text='UpTrader – продуктовая FinTech компания, мы созда...)"
            ]
          },
          "metadata": {},
          "execution_count": 18
        }
      ]
    },
    {
      "cell_type": "markdown",
      "source": [
        "📝 **Токен** - минимальная единица языка, имеющая смысл. Например, слово или число. А буква уже не является токеном,потому что сама по себе буква не несет смысла.\n",
        "\n",
        "Segmenter разбивает документ на список токенов, и у нас появляется новый атрибут `doc.tokens`"
      ],
      "metadata": {
        "id": "LW1NGT-D9O32"
      }
    },
    {
      "cell_type": "code",
      "source": [
        "doc.segment(segmenter)"
      ],
      "metadata": {
        "id": "uscwMKG77uNZ"
      },
      "execution_count": null,
      "outputs": []
    },
    {
      "cell_type": "code",
      "source": [
        "doc"
      ],
      "metadata": {
        "id": "q-D6rAYT7uSy"
      },
      "execution_count": null,
      "outputs": []
    },
    {
      "cell_type": "markdown",
      "source": [
        "Теперь для каждого токена мы можем получить начальную форму"
      ],
      "metadata": {
        "id": "qzOKsUhO-Skd"
      }
    },
    {
      "cell_type": "code",
      "source": [
        "doc.tag_morph(morph_tagger)"
      ],
      "metadata": {
        "id": "7Wz4-w9R7sWd"
      },
      "execution_count": null,
      "outputs": []
    },
    {
      "cell_type": "code",
      "source": [
        "doc"
      ],
      "metadata": {
        "id": "YqQbaZtC7w05"
      },
      "execution_count": null,
      "outputs": []
    },
    {
      "cell_type": "markdown",
      "source": [
        "Для каждого токена в документе делаем преобразование"
      ],
      "metadata": {
        "id": "1asp26Oq-yxY"
      }
    },
    {
      "cell_type": "code",
      "source": [
        "words = []\n",
        "for token in doc.tokens:\n",
        "    token.lemmatize(morph_vocab)\n",
        "    normal_form = token.lemma\n",
        "    print(token.text, '->', normal_form)\n",
        "    words.append(normal_form)"
      ],
      "metadata": {
        "id": "RaGOmjJG-Qkx"
      },
      "execution_count": null,
      "outputs": []
    },
    {
      "cell_type": "markdown",
      "source": [
        "Собираем текст обратно.\n",
        "\n",
        "Объединим список элементов в одну строку через пробел:\n",
        "\n",
        "`['обязанность', 'писать',  'код']` → `'обязанность писать код'`"
      ],
      "metadata": {
        "id": "VftSASZK_3su"
      }
    },
    {
      "cell_type": "code",
      "source": [
        "# В основе конструкции - текст-разделитель (у нас это символ пробела ' '), из него берем функцию join,\n",
        "# которая объединяет все слова в списке в одну строку через разделитель\n",
        "line = ' '.join(words) "
      ],
      "metadata": {
        "id": "M-JAjtxn_xzn"
      },
      "execution_count": null,
      "outputs": []
    },
    {
      "cell_type": "markdown",
      "source": [
        "Доработаем код так, чтобы убрать неважные части речи - предлоги, союзы и т.п."
      ],
      "metadata": {
        "id": "qHySH3VQBJxa"
      }
    },
    {
      "cell_type": "markdown",
      "source": [
        "📝 Ключевое слово **if** говорит буквально: если условие выполнено - сверни от основной линии программы в дополнительную ветку кода\n",
        "\n",
        "* После выражения `if <условие, которое дает True или False>` ставится двоеточие\n",
        "* Границы набора команд как в случае с функцией и ключевым словом for определяются по отступу в начале строки"
      ],
      "metadata": {
        "id": "fHxeOB55BQY6"
      }
    },
    {
      "cell_type": "code",
      "source": [],
      "metadata": {
        "id": "JUwm_JRsByx9"
      },
      "execution_count": null,
      "outputs": []
    },
    {
      "cell_type": "markdown",
      "source": [
        "Собираем код воедино.\n",
        "\n",
        "Чтобы убрать ненужные части речи и знаки, ставим условие с помощью оператора if"
      ],
      "metadata": {
        "id": "p64WmyGEAkOe"
      }
    },
    {
      "cell_type": "code",
      "source": [
        "def preprocess(text):\n",
        "    parsed_html = bs4.BeautifulSoup(text)\n",
        "    text = parsed_html.text # удалили тэги\n",
        "    \n",
        "    morph_vocab = MorphVocab()\n",
        "    segmenter = Segmenter()\n",
        "    embedding = NewsEmbedding()\n",
        "    morph_tagger = NewsMorphTagger(embedding)\n",
        "    doc = Doc(text)\n",
        "    doc.segment(segmenter)\n",
        "    doc.tag_morph(morph_tagger)\n",
        "\n",
        "    words = []\n",
        "\n",
        "    for token in doc.tokens:\n",
        "        # Если часть речи не входит в список: [знак пунктуации, предлог, союз, местоимение], выполняем:\n",
        "        if token.pos not in ['PUNCT', 'ADP', 'CCONJ', 'PRON']:  \n",
        "            # Преобразуем к нормальной форме 'способов' -> 'способ'\n",
        "            token.lemmatize(morph_vocab)\n",
        "            # Добавляем в общий список \n",
        "            words.append(token.lemma)\n",
        "\n",
        "    # Объединяем список элементов в одну строку через пробел\n",
        "    # ['обязанность', 'писать',  'код'] -> 'обязанность писать код'\n",
        "    line = ' '.join(words)\n",
        "\n",
        "    return line"
      ],
      "metadata": {
        "id": "bCQslBZhAmgL"
      },
      "execution_count": null,
      "outputs": []
    },
    {
      "cell_type": "code",
      "source": [
        "# Этот блок кода выполняется порядка получаса, поэтому мы прервем его и скачаем готовый файл\n",
        "# При остановке вылетит ошибка KeyboardInterrupt - это не важно, пусть эта ячейка \n",
        "# остается \"забракованной\", мы просто начнем выполнять код дальше со следующей ячейки\n",
        "\n",
        "preprocessed = []\n",
        "\n",
        "for vacancy in tqdm.notebook.tqdm(vacancies_df['description']):\n",
        "    preprocessed.append(preprocess(vacancy))"
      ],
      "metadata": {
        "id": "sVDKIbYYB29X"
      },
      "execution_count": null,
      "outputs": []
    },
    {
      "cell_type": "code",
      "source": [
        "# Если хотите загрузить собственные файлы - закомментируйте код (поставьте знак # в начале)\n",
        "preprocessed = load_from_google_drive('14dcZnE_XvVeCgWCDgJSZiHgYJQm-TYvD', 'preprocessed.json')"
      ],
      "metadata": {
        "id": "H4KHV0_ACkEw"
      },
      "execution_count": null,
      "outputs": []
    },
    {
      "cell_type": "code",
      "source": [],
      "metadata": {
        "id": "uj4rhioGDY9Q"
      },
      "execution_count": null,
      "outputs": []
    },
    {
      "cell_type": "markdown",
      "source": [
        "## 4 Посчитаем наиболее важные слова с помощью TF-IDF"
      ],
      "metadata": {
        "id": "QBIEfZIkD98k"
      }
    },
    {
      "cell_type": "markdown",
      "source": [
        "📝 TF-IDF - формула для расчета \"веса\" слова, в ней набольшее число получат слова, которые встречаются часто в одном документе, но редко - во всех (то есть, слова, являющиеся специфическими для конкретного документа)\n",
        "\n",
        "$$TF \\text{-} IDF(t, d, D) = \\dfrac{\\text{Сколько раз слово $t$ встретилось в документе $d$}}{\\text{Сколько слов в документе $d$}} \\cdot \n",
        "log \\left( \\dfrac{\\text{Сколько всего документов в $D$}}{\\text{Число документов в $D$, в которых встречается слово $t$}} \\right),$$\n",
        "\n",
        "где:\n",
        "* $t$ — “Терм” = слово или словосочетание\n",
        "* $d$ — “Документ” = описание одной вакансии\n",
        "* $D$ — “Коллекция” = набор документов (список вакансий)\n"
      ],
      "metadata": {
        "id": "OY4uHlewEFPa"
      }
    },
    {
      "cell_type": "code",
      "source": [
        "from sklearn.feature_extraction.text import TfidfVectorizer"
      ],
      "metadata": {
        "id": "ge3_EQVlEgcP"
      },
      "execution_count": null,
      "outputs": []
    },
    {
      "cell_type": "code",
      "source": [
        "D = [\n",
        "    \"мама мыла раму\",  # d - \"мама мыла раму\", t - \"раму\"\n",
        "    \"мама мыла посуду\",\n",
        "    \"дочка мыла раму\"\n",
        "]\n",
        "\n",
        "vectorizer = TfidfVectorizer()\n",
        "#  Обучаем объект векторизатора (функции, кодирующий текст в виде последовательностей чисел)\n",
        "vectorizer.fit(D)\n",
        "\n",
        "tf_idf_words = vectorizer.get_feature_names_out()\n",
        "tf_idf_table = vectorizer.transform(D).toarray()\n",
        "\n",
        "pd.DataFrame(tf_idf_table, columns=tf_idf_words)"
      ],
      "metadata": {
        "colab": {
          "base_uri": "https://localhost:8080/",
          "height": 144
        },
        "id": "5K56jmZhEiaZ",
        "outputId": "8d2ee6ef-901e-4100-e13a-36015c33996d"
      },
      "execution_count": null,
      "outputs": [
        {
          "output_type": "execute_result",
          "data": {
            "text/plain": [
              "      дочка      мама      мыла    посуду      раму\n",
              "0  0.000000  0.619805  0.481334  0.000000  0.619805\n",
              "1  0.000000  0.547832  0.425441  0.720333  0.000000\n",
              "2  0.720333  0.000000  0.425441  0.000000  0.547832"
            ],
            "text/html": [
              "\n",
              "  <div id=\"df-311a6c24-321a-479b-a242-50b42985614d\">\n",
              "    <div class=\"colab-df-container\">\n",
              "      <div>\n",
              "<style scoped>\n",
              "    .dataframe tbody tr th:only-of-type {\n",
              "        vertical-align: middle;\n",
              "    }\n",
              "\n",
              "    .dataframe tbody tr th {\n",
              "        vertical-align: top;\n",
              "    }\n",
              "\n",
              "    .dataframe thead th {\n",
              "        text-align: right;\n",
              "    }\n",
              "</style>\n",
              "<table border=\"1\" class=\"dataframe\">\n",
              "  <thead>\n",
              "    <tr style=\"text-align: right;\">\n",
              "      <th></th>\n",
              "      <th>дочка</th>\n",
              "      <th>мама</th>\n",
              "      <th>мыла</th>\n",
              "      <th>посуду</th>\n",
              "      <th>раму</th>\n",
              "    </tr>\n",
              "  </thead>\n",
              "  <tbody>\n",
              "    <tr>\n",
              "      <th>0</th>\n",
              "      <td>0.000000</td>\n",
              "      <td>0.619805</td>\n",
              "      <td>0.481334</td>\n",
              "      <td>0.000000</td>\n",
              "      <td>0.619805</td>\n",
              "    </tr>\n",
              "    <tr>\n",
              "      <th>1</th>\n",
              "      <td>0.000000</td>\n",
              "      <td>0.547832</td>\n",
              "      <td>0.425441</td>\n",
              "      <td>0.720333</td>\n",
              "      <td>0.000000</td>\n",
              "    </tr>\n",
              "    <tr>\n",
              "      <th>2</th>\n",
              "      <td>0.720333</td>\n",
              "      <td>0.000000</td>\n",
              "      <td>0.425441</td>\n",
              "      <td>0.000000</td>\n",
              "      <td>0.547832</td>\n",
              "    </tr>\n",
              "  </tbody>\n",
              "</table>\n",
              "</div>\n",
              "      <button class=\"colab-df-convert\" onclick=\"convertToInteractive('df-311a6c24-321a-479b-a242-50b42985614d')\"\n",
              "              title=\"Convert this dataframe to an interactive table.\"\n",
              "              style=\"display:none;\">\n",
              "        \n",
              "  <svg xmlns=\"http://www.w3.org/2000/svg\" height=\"24px\"viewBox=\"0 0 24 24\"\n",
              "       width=\"24px\">\n",
              "    <path d=\"M0 0h24v24H0V0z\" fill=\"none\"/>\n",
              "    <path d=\"M18.56 5.44l.94 2.06.94-2.06 2.06-.94-2.06-.94-.94-2.06-.94 2.06-2.06.94zm-11 1L8.5 8.5l.94-2.06 2.06-.94-2.06-.94L8.5 2.5l-.94 2.06-2.06.94zm10 10l.94 2.06.94-2.06 2.06-.94-2.06-.94-.94-2.06-.94 2.06-2.06.94z\"/><path d=\"M17.41 7.96l-1.37-1.37c-.4-.4-.92-.59-1.43-.59-.52 0-1.04.2-1.43.59L10.3 9.45l-7.72 7.72c-.78.78-.78 2.05 0 2.83L4 21.41c.39.39.9.59 1.41.59.51 0 1.02-.2 1.41-.59l7.78-7.78 2.81-2.81c.8-.78.8-2.07 0-2.86zM5.41 20L4 18.59l7.72-7.72 1.47 1.35L5.41 20z\"/>\n",
              "  </svg>\n",
              "      </button>\n",
              "      \n",
              "  <style>\n",
              "    .colab-df-container {\n",
              "      display:flex;\n",
              "      flex-wrap:wrap;\n",
              "      gap: 12px;\n",
              "    }\n",
              "\n",
              "    .colab-df-convert {\n",
              "      background-color: #E8F0FE;\n",
              "      border: none;\n",
              "      border-radius: 50%;\n",
              "      cursor: pointer;\n",
              "      display: none;\n",
              "      fill: #1967D2;\n",
              "      height: 32px;\n",
              "      padding: 0 0 0 0;\n",
              "      width: 32px;\n",
              "    }\n",
              "\n",
              "    .colab-df-convert:hover {\n",
              "      background-color: #E2EBFA;\n",
              "      box-shadow: 0px 1px 2px rgba(60, 64, 67, 0.3), 0px 1px 3px 1px rgba(60, 64, 67, 0.15);\n",
              "      fill: #174EA6;\n",
              "    }\n",
              "\n",
              "    [theme=dark] .colab-df-convert {\n",
              "      background-color: #3B4455;\n",
              "      fill: #D2E3FC;\n",
              "    }\n",
              "\n",
              "    [theme=dark] .colab-df-convert:hover {\n",
              "      background-color: #434B5C;\n",
              "      box-shadow: 0px 1px 3px 1px rgba(0, 0, 0, 0.15);\n",
              "      filter: drop-shadow(0px 1px 2px rgba(0, 0, 0, 0.3));\n",
              "      fill: #FFFFFF;\n",
              "    }\n",
              "  </style>\n",
              "\n",
              "      <script>\n",
              "        const buttonEl =\n",
              "          document.querySelector('#df-311a6c24-321a-479b-a242-50b42985614d button.colab-df-convert');\n",
              "        buttonEl.style.display =\n",
              "          google.colab.kernel.accessAllowed ? 'block' : 'none';\n",
              "\n",
              "        async function convertToInteractive(key) {\n",
              "          const element = document.querySelector('#df-311a6c24-321a-479b-a242-50b42985614d');\n",
              "          const dataTable =\n",
              "            await google.colab.kernel.invokeFunction('convertToInteractive',\n",
              "                                                     [key], {});\n",
              "          if (!dataTable) return;\n",
              "\n",
              "          const docLinkHtml = 'Like what you see? Visit the ' +\n",
              "            '<a target=\"_blank\" href=https://colab.research.google.com/notebooks/data_table.ipynb>data table notebook</a>'\n",
              "            + ' to learn more about interactive tables.';\n",
              "          element.innerHTML = '';\n",
              "          dataTable['output_type'] = 'display_data';\n",
              "          await google.colab.output.renderOutput(dataTable, element);\n",
              "          const docLink = document.createElement('div');\n",
              "          docLink.innerHTML = docLinkHtml;\n",
              "          element.appendChild(docLink);\n",
              "        }\n",
              "      </script>\n",
              "    </div>\n",
              "  </div>\n",
              "  "
            ]
          },
          "metadata": {},
          "execution_count": 47
        }
      ]
    },
    {
      "cell_type": "markdown",
      "source": [
        "Мы можем настраивать параметры векторизации - например, выбирать пары слов тоже.\n",
        "\n",
        "Это делается при создании объекта: `TfidfVectorizer(ngram_range=(1, 2))`"
      ],
      "metadata": {
        "id": "A5LacRFcFUf5"
      }
    },
    {
      "cell_type": "markdown",
      "source": [
        "Просуммируем вес слова по всем документам"
      ],
      "metadata": {
        "id": "iVS-OXasFulL"
      }
    },
    {
      "cell_type": "code",
      "source": [
        "weights = tf_idf_table.sum(axis=0)"
      ],
      "metadata": {
        "id": "8ca_7qNOFx-R"
      },
      "execution_count": null,
      "outputs": []
    },
    {
      "cell_type": "markdown",
      "source": [
        "Отсотируем таблицы в порядке убывания \"веса\" слова:\n",
        "* `.argsort()` дает список индексов в порядке возрастания значения\n",
        "* конструкция `[::-1]` разворачивает список (проходит его с шагом -1)\n",
        "* получив нужный порядок номеров, выведем в этом порядке ключевые слова"
      ],
      "metadata": {
        "id": "rbaEfRV-F6xg"
      }
    },
    {
      "cell_type": "code",
      "source": [
        "indices_order = weights.argsort()[::-1]"
      ],
      "metadata": {
        "id": "3R3pXtRiHLqh"
      },
      "execution_count": null,
      "outputs": []
    },
    {
      "cell_type": "code",
      "source": [
        "tf_idf_words[indices_order]"
      ],
      "metadata": {
        "id": "NgoLqfU-HjXp"
      },
      "execution_count": null,
      "outputs": []
    },
    {
      "cell_type": "code",
      "source": [
        "# То же самое для коллекции вакансий\n",
        "\n",
        "vectorizer = TfidfVectorizer(ngram_range=(1, 2))\n",
        "#  Обучаем объект векторизатора (функции, кодирующий текст в виде последовательностей чисел)\n",
        "vectorizer.fit(preprocessed)\n",
        "\n",
        "tf_idf_words = vectorizer.get_feature_names_out()\n",
        "tf_idf_table = vectorizer.transform(preprocessed).toarray()\n",
        "weights = tf_idf_table.sum(axis=0)\n",
        "indices_order = weights.argsort()[::-1]\n",
        "\n",
        "tf_idf_words[indices_order]"
      ],
      "metadata": {
        "colab": {
          "base_uri": "https://localhost:8080/"
        },
        "id": "ycTO3lHUHvGi",
        "outputId": "8c8cd0af-e822-4baa-bb7b-d1ecd42aaeef"
      },
      "execution_count": null,
      "outputs": [
        {
          "output_type": "execute_result",
          "data": {
            "text/plain": [
              "array(['работа', 'опыт', 'разработка', ..., 'methods based',\n",
              "       'nlp benchmarking', 'of deep'], dtype=object)"
            ]
          },
          "metadata": {},
          "execution_count": 61
        }
      ]
    },
    {
      "cell_type": "code",
      "source": [
        "frequencies = dict(zip(tf_idf_words, weights))\n",
        "\n",
        "print('Ключевые слова в описании вакансий')\n",
        "cloud = WordCloud(background_color=\"white\")\n",
        "cloud.generate_from_frequencies(frequencies=frequencies).to_image().show()"
      ],
      "metadata": {
        "colab": {
          "base_uri": "https://localhost:8080/",
          "height": 234
        },
        "id": "m78PVCucILWK",
        "outputId": "72fe402b-2c1a-4eac-9a06-fdc9bf2fbe78"
      },
      "execution_count": null,
      "outputs": [
        {
          "output_type": "stream",
          "name": "stdout",
          "text": [
            "Ключевые слова в описании вакансий\n"
          ]
        },
        {
          "output_type": "display_data",
          "data": {
            "text/plain": [
              "<PIL.Image.Image image mode=RGB size=400x200 at 0x7F309EDD03D0>"
            ],
            "image/png": "[encoded data removed]"
          },
          "metadata": {}
        }
      ]
    },
    {
      "cell_type": "markdown",
      "source": [
        "# Домашнее задание\n",
        "\n",
        "✍ Используя возможности API, **загрузите релевантные для себя вакансии** (настроив параметр опыта, место работы и проч.) и постройте для них облако ключевых слов.\n",
        "\n",
        "✍ (Творческая задача) **Подумайте, как можно улучшить поиск ключевых слов** (удалять определенные слова, использовать синтаксический разбор и проч.) Запишите идеи в рабочей тетради (текстовое поле создается кнопкой \"+ Текст\" слева вверху)."
      ],
      "metadata": {
        "id": "tlMkWI7zND_9"
      }
    },
    {
      "cell_type": "code",
      "source": [],
      "metadata": {
        "id": "Lkg2BqECE1QE"
      },
      "execution_count": null,
      "outputs": []
    },
    {
      "cell_type": "code",
      "source": [],
      "metadata": {
        "id": "mGZgPSsCOE9t"
      },
      "execution_count": null,
      "outputs": []
    },
    {
      "cell_type": "markdown",
      "source": [
        "### Весь код 2-го дня для удобного запуска"
      ],
      "metadata": {
        "id": "do1UX9wpnmGe"
      }
    },
    {
      "cell_type": "code",
      "source": [
        "!pip install natasha --quiet"
      ],
      "metadata": {
        "id": "s_iPwd-qnpXC"
      },
      "execution_count": null,
      "outputs": []
    },
    {
      "cell_type": "code",
      "source": [
        "import time\n",
        "import json\n",
        "import requests\n",
        "from IPython.display import display, clear_output\n",
        "import tqdm\n",
        "import tqdm.notebook\n",
        "\n",
        "import bs4\n",
        "import pandas as pd\n",
        "from collections import Counter\n",
        "from wordcloud import WordCloud\n",
        "from natasha import Doc, MorphVocab, NewsEmbedding, NewsMorphTagger, Segmenter\n",
        "from sklearn.feature_extraction.text import TfidfVectorizer\n",
        "\n",
        "\n",
        "# Код 1-го дня: загрузка данных из интернета\n",
        "\n",
        "def dump_json(obj, filename):\n",
        "    \"\"\"Функция сохранения JSON-файла на диск\"\"\"\n",
        "    with open(filename, 'w', encoding='UTF-8') as f:\n",
        "        json.dump(obj, f, ensure_ascii=False, indent=4)\n",
        "\n",
        "\n",
        "def get_vacancies(text=\"python\", \n",
        "                  experience=None, employment=None, schedule=None):\n",
        "    \"\"\"Функция для скачивания данных по API HeadHunter\"\"\"\n",
        "    params = {\n",
        "            \"per_page\": 100,\n",
        "            \"page\": 0,\n",
        "            \"period\": 30,\n",
        "            \"text\": text,\n",
        "            \"experience\": experience,\n",
        "            \"employment\": employment,\n",
        "            \"schedule\": schedule,\n",
        "        }\n",
        "\n",
        "    res = requests.get(\"https://api.hh.ru/vacancies\", params=params)\n",
        "    if not res.ok:\n",
        "        print('Error:', res)\n",
        "    vacancies = res.json()[\"items\"]\n",
        "    pages = res.json()['pages']\n",
        "\n",
        "    for page in tqdm.trange(1, pages):\n",
        "        params['page'] = page\n",
        "        res = requests.get(\"https://api.hh.ru/vacancies\", params=params)\n",
        "        if res.ok:\n",
        "            response_json = res.json()\n",
        "            vacancies.extend(response_json[\"items\"])\n",
        "        else:\n",
        "            print(res)\n",
        "    \n",
        "    dump_json(vacancies, 'vacancies.json')\n",
        "\n",
        "    return vacancies\n",
        "\n",
        "\n",
        "def get_full_descriptions(vacancies):\n",
        "    \"\"\"Функция для скачивания полного описания вакансий (работает 20 минут!)\"\"\"\n",
        "    vacancies_full = []\n",
        "    for entry in tqdm.tqdm(vacancies):\n",
        "        vacancy_id = entry['id']\n",
        "        description = requests.get(f\"https://api.hh.ru/vacancies/{vacancy_id}\")\n",
        "        vacancies_full.append(description.json())\n",
        "        print(description.json())\n",
        "        time.sleep(0.2) # Этот таймаут нужен, чтобы hh не начал запрашивать капчу\n",
        "        clear_output()\n",
        "\n",
        "    dump_json(vacancies_full, 'vacancies_full.json')\n",
        "\n",
        "    return vacancies_full\n",
        "\n",
        "\n",
        "def load_from_google_drive(file_id, filename):\n",
        "    \"\"\"Функция для загрузки уже скаченного файла вместо get_full_descriptions\"\"\"\n",
        "    url = f\"https://drive.google.com/uc?export=view&id={file_id}\"\n",
        "    res = requests.get(url)\n",
        "    data = res.json()\n",
        "    dump_json(data, filename)\n",
        "    return data\n",
        "\n",
        "\n",
        "vacancies = get_vacancies()\n",
        "print('Загружено', len(vacancies), 'вакансий')\n",
        "\n",
        "\n",
        "# vacancies_full = get_full_descriptions(vacancies)  # Выполняется ≈20 мин\n",
        "vacancies_full = load_from_google_drive('1d2NfxfM2n48m5WS6oCCc3rcQ4hdnTQ1v',\n",
        "                                        'vacancies_full.json')\n",
        "\n",
        "all_skills = []\n",
        "for vacancy in vacancies_full:\n",
        "    for skill in vacancy['key_skills']:\n",
        "        all_skills.append(skill['name'])\n",
        "\n",
        "frequencies = Counter(all_skills)\n",
        "\n",
        "pd.DataFrame(vacancies).to_excel('Cписок вакансий.xlsx')\n",
        "pd.DataFrame(vacancies_full).to_excel('Подробное описание вакансий.xlsx')\n",
        "\n",
        "print('Топ навыков Python-разработчика:')\n",
        "cloud = WordCloud(background_color=\"white\")\n",
        "wc_skills = cloud.generate_from_frequencies(frequencies).to_image()\n",
        "wc_skills.show()\n",
        "wc_skills.save('word_cloud_skills.png')\n",
        "\n",
        "\n",
        "# Код 2-го дня: Data Mining - выделение ключевых слов\n",
        "\n",
        "def preprocess(text):\n",
        "    \"\"\"Функция для предварительной обработки текста одной вакансии:\n",
        "    '<p><strong>Кого мы ищем:</strong><br/>Junior Backend разработчика, готового работать в команде.</p> <p><strong>'\n",
        "     ↓ ↓ ↓\n",
        "    'искать junior backend разработчик готовый работать команда'\n",
        "    \"\"\"\n",
        "    parsed_html = bs4.BeautifulSoup(text)\n",
        "    text = parsed_html.text # удалили тэги\n",
        "    \n",
        "    morph_vocab = MorphVocab()\n",
        "    segmenter = Segmenter()\n",
        "    embedding = NewsEmbedding()\n",
        "    morph_tagger = NewsMorphTagger(embedding)\n",
        "    doc = Doc(text)\n",
        "    doc.segment(segmenter)\n",
        "    doc.tag_morph(morph_tagger)\n",
        "\n",
        "    words = []\n",
        "\n",
        "    for token in doc.tokens:\n",
        "        # Если часть речи не входит в список: [знак пунктуации, предлог, союз, местоимение], выполняем:\n",
        "        if token.pos not in ['PUNCT', 'ADP', 'CCONJ', 'PRON']:  \n",
        "            # Преобразуем к нормальной форме 'способов' -> 'способ'\n",
        "            token.lemmatize(morph_vocab)\n",
        "            # Добавляем в общий список \n",
        "            words.append(token.lemma)\n",
        "\n",
        "    # Объединяем список элементов в одну строку через пробел\n",
        "    # ['обязанность', 'писать',  'код'] -> 'обязанность писать код'\n",
        "    line = ' '.join(words)\n",
        "\n",
        "    return line\n",
        "\n",
        "def preprocess_all(document_collection):\n",
        "    \"\"\"Функция для обработки всех вакансий. На вход функция получает список с описаниями.\n",
        "    Работает до получаса!\n",
        "    \"\"\"\n",
        "    preprocessed = []\n",
        "    for vacancy in tqdm.tqdm(document_collection):\n",
        "        preprocessed.append(preprocess(vacancy))\n",
        "\n",
        "    dump_json(preprocessed, 'preprocessed.json')\n",
        "\n",
        "    return preprocessed\n",
        "\n",
        "vacancies_df = pd.DataFrame(vacancies_full)\n",
        "# Этот код выполняется примерно полчаса\n",
        "# preprocessed = preprocess_all(vacancies_df['description'])\n",
        "\n",
        "# Вместо этого загрузим обработанные тексты с диска\n",
        "preprocessed = load_from_google_drive('14dcZnE_XvVeCgWCDgJSZiHgYJQm-TYvD', 'preprocessed.json')\n",
        "\n",
        "\n",
        "def get_tf_idf_weights(preprocessed):\n",
        "    \"\"\"Эта функция получает на вход подготовленные тексты вида \n",
        "    'искать junior backend разработчик готовый работать команда'\n",
        "    и составляет по ним словарь весов ключевых слов: \n",
        "    {'искать': 0.54, 'junior': 0.73, ...}\n",
        "    \"\"\"\n",
        "    vectorizer = TfidfVectorizer(ngram_range=(1, 2))\n",
        "    #  Обучаем объект векторизатора (функции, кодирующий текст в виде последовательностей чисел)\n",
        "    vectorizer.fit(preprocessed)\n",
        "\n",
        "    tf_idf_words = vectorizer.get_feature_names_out()\n",
        "    tf_idf_table = vectorizer.transform(preprocessed).toarray()\n",
        "    weights = tf_idf_table.sum(axis=0)\n",
        "    indices_order = weights.argsort()[::-1]\n",
        "\n",
        "    tf_idf_words[indices_order]\n",
        "\n",
        "    frequencies = dict(zip(tf_idf_words, weights))\n",
        "\n",
        "    return frequencies\n",
        "\n",
        "frequencies = get_tf_idf_weights(preprocessed)\n",
        "\n",
        "print('\\nКлючевые слова в описании вакансий:')\n",
        "cloud = WordCloud(background_color=\"white\")\n",
        "wc_descriptions = cloud.generate_from_frequencies(frequencies).to_image()\n",
        "wc_descriptions.show()\n",
        "wc_descriptions.save('word_cloud_descriptions.png')"
      ],
      "metadata": {
        "id": "K1ldETTcnrZB"
      },
      "execution_count": null,
      "outputs": []
    },
    {
      "cell_type": "code",
      "source": [],
      "metadata": {
        "id": "aWKAAc-FkR_t"
      },
      "execution_count": null,
      "outputs": []
    },
    {
      "cell_type": "markdown",
      "source": [
        "# 3 день: автоматизируем рутину"
      ],
      "metadata": {
        "id": "mydtsRNjk0DB"
      }
    },
    {
      "cell_type": "markdown",
      "source": [
        "Сегодня мы будем учиться собирать данные по расписанию и автоматически отправлять их по почте"
      ],
      "metadata": {
        "id": "fBjN98nJk9hS"
      }
    },
    {
      "cell_type": "markdown",
      "source": [
        "[Презентация - День 3](https://docs.google.com/presentation/d/1zQHwfERVjyXwz3DtB9K-MDhOnymZwzIJvEgrAdMXXAo/edit?usp=sharing)\n",
        "\n",
        "Ссылка на эфир: [Автоматизируем рутину с помощью Python](https://live.skillbox.ru/webinars/code/avtomatiziruem-rutinu-s-pomoshyu-python290423/)"
      ],
      "metadata": {
        "id": "x2SnWFLKkJDM"
      }
    },
    {
      "cell_type": "code",
      "source": [
        "!pip install natasha --quiet"
      ],
      "metadata": {
        "id": "1i6hRs0Va7sf"
      },
      "execution_count": null,
      "outputs": []
    },
    {
      "cell_type": "code",
      "source": [
        "import time\n",
        "import json\n",
        "import requests\n",
        "from IPython.display import display, clear_output\n",
        "import tqdm\n",
        "import tqdm.notebook\n",
        "\n",
        "import bs4\n",
        "import pandas as pd\n",
        "from collections import Counter\n",
        "from wordcloud import WordCloud\n",
        "from natasha import Doc, MorphVocab, NewsEmbedding, NewsMorphTagger, Segmenter\n",
        "from sklearn.feature_extraction.text import TfidfVectorizer\n",
        "\n",
        "# Код 1-го дня\n",
        "def dump_json(obj, filename):\n",
        "    \"\"\"Функция сохранения JSON-файла на диск\"\"\"\n",
        "    with open(filename, 'w', encoding='UTF-8') as f:\n",
        "        json.dump(obj, f, ensure_ascii=False, indent=4)\n",
        "\n",
        "\n",
        "def get_vacancies(text=\"python\", \n",
        "                  experience=None, employment=None, schedule=None):\n",
        "    \"\"\"Функция для скачивания данных по API HeadHunter\"\"\"\n",
        "    params = {\n",
        "            \"per_page\": 100,\n",
        "            \"page\": 0,\n",
        "            \"period\": 30,\n",
        "            \"text\": text,\n",
        "            \"experience\": experience,\n",
        "            \"employment\": employment,\n",
        "            \"schedule\": schedule,\n",
        "        }\n",
        "\n",
        "    res = requests.get(\"https://api.hh.ru/vacancies\", params=params)\n",
        "    if not res.ok:\n",
        "        print('Error:', res)\n",
        "    vacancies = res.json()[\"items\"]\n",
        "    pages = res.json()['pages']\n",
        "\n",
        "    for page in tqdm.trange(1, pages):\n",
        "        params['page'] = page\n",
        "        res = requests.get(\"https://api.hh.ru/vacancies\", params=params)\n",
        "        if res.ok:\n",
        "            response_json = res.json()\n",
        "            vacancies.extend(response_json[\"items\"])\n",
        "        else:\n",
        "            print(res)\n",
        "    \n",
        "    dump_json(vacancies, 'vacancies.json')\n",
        "\n",
        "    return vacancies\n",
        "\n",
        "\n",
        "def get_full_descriptions(vacancies):\n",
        "    \"\"\"Функция для скачивания полного описания вакансий (работает 20 минут!)\"\"\"\n",
        "    vacancies_full = []\n",
        "    for entry in tqdm.tqdm(vacancies):\n",
        "        vacancy_id = entry['id']\n",
        "        description = requests.get(f\"https://api.hh.ru/vacancies/{vacancy_id}\")\n",
        "        vacancies_full.append(description.json())\n",
        "        print(description.json())\n",
        "        time.sleep(0.2) # Этот таймаут нужен, чтобы hh не начал запрашивать капчу\n",
        "        clear_output()\n",
        "\n",
        "    dump_json(vacancies_full, 'vacancies_full.json')\n",
        "\n",
        "    return vacancies_full\n",
        "\n",
        "\n",
        "def load_from_google_drive(file_id, filename):\n",
        "    \"\"\"Функция для загрузки уже скаченного файла вместо get_full_descriptions\"\"\"\n",
        "    url = f\"https://drive.google.com/uc?export=view&id={file_id}\"\n",
        "    res = requests.get(url)\n",
        "    data = res.json()\n",
        "    dump_json(data, filename)\n",
        "    return data\n",
        "\n",
        "\n",
        "# Если хотим загрузить новую подборку, в функции get_vacancies нужно указать\n",
        "# желаемые параметры для experience, employment, schedule\n",
        "# и ниже в двух местах удалить / закомментировать код с load_from_google_drive, \n",
        "# заменив на get_full_descriptions и preprocess_all соответственно\n",
        "vacancies = get_vacancies(\n",
        "    text=\"python\",\n",
        "    experience=None, \n",
        "    employment=None, \n",
        "    schedule=None\n",
        "    )\n",
        "print('Загружено', len(vacancies), 'вакансий')\n",
        "\n",
        "\n",
        "# vacancies_full = get_full_descriptions(vacancies)  # Выполняется ≈20 мин\n",
        "vacancies_full = load_from_google_drive('1d2NfxfM2n48m5WS6oCCc3rcQ4hdnTQ1v',\n",
        "                                        'vacancies_full.json')\n",
        "\n",
        "all_skills = []\n",
        "for vacancy in vacancies_full:\n",
        "    for skill in vacancy['key_skills']:\n",
        "        all_skills.append(skill['name'])\n",
        "\n",
        "frequencies = Counter(all_skills)\n",
        "\n",
        "pd.DataFrame(vacancies).to_excel('Cписок вакансий.xlsx')\n",
        "pd.DataFrame(vacancies_full).to_excel('Подробное описание вакансий.xlsx')\n",
        "\n",
        "print('Топ навыков Python-разработчика:')\n",
        "cloud = WordCloud(background_color=\"white\")\n",
        "wc_skills = cloud.generate_from_frequencies(frequencies).to_image()\n",
        "wc_skills.show()\n",
        "wc_skills.save('word_cloud_skills.png')\n",
        "\n",
        "\n",
        "# Код 2-го дня\n",
        "\n",
        "def preprocess(text):\n",
        "    \"\"\"Функция для предварительной обработки текста одной вакансии:\n",
        "    '<p><strong>Кого мы ищем:</strong><br/>Junior Backend разработчика, готового работать в команде.</p> <p><strong>'\n",
        "     ↓ ↓ ↓\n",
        "    'искать junior backend разработчик готовый работать команда'\n",
        "    \"\"\"\n",
        "    parsed_html = bs4.BeautifulSoup(text)\n",
        "    text = parsed_html.text # удалили тэги\n",
        "    \n",
        "    morph_vocab = MorphVocab()\n",
        "    segmenter = Segmenter()\n",
        "    embedding = NewsEmbedding()\n",
        "    morph_tagger = NewsMorphTagger(embedding)\n",
        "    doc = Doc(text)\n",
        "    doc.segment(segmenter)\n",
        "    doc.tag_morph(morph_tagger)\n",
        "\n",
        "    words = []\n",
        "\n",
        "    for token in doc.tokens:\n",
        "        # Если часть речи не входит в список: [знак пунктуации, предлог, союз, местоимение], выполняем:\n",
        "        if token.pos not in ['PUNCT', 'ADP', 'CCONJ', 'PRON']:  \n",
        "            # Преобразуем к нормальной форме 'способов' -> 'способ'\n",
        "            token.lemmatize(morph_vocab)\n",
        "            # Добавляем в общий список \n",
        "            words.append(token.lemma)\n",
        "\n",
        "    # Объединяем список элементов в одну строку через пробел\n",
        "    # ['обязанность', 'писать',  'код'] -> 'обязанность писать код'\n",
        "    line = ' '.join(words)\n",
        "\n",
        "    return line\n",
        "\n",
        "def preprocess_all(document_collection):\n",
        "    \"\"\"Функция для обработки всех вакансий. На вход функция получает список с описаниями.\n",
        "    Работает до получаса!\n",
        "    \"\"\"\n",
        "    preprocessed = []\n",
        "    for vacancy in tqdm.tqdm(vacancies_df['description']):\n",
        "        preprocessed.append(preprocess(vacancy))\n",
        "\n",
        "    dump_json(preprocessed, 'preprocessed.json')\n",
        "\n",
        "    return preprocessed\n",
        "\n",
        "vacancies_df = pd.DataFrame(vacancies_full)\n",
        "# Этот код выполняется примерно полчаса\n",
        "# preprocessed = preprocess_all(vacancies_df['description'])\n",
        "\n",
        "# Вместо этого загрузим обработанные тексты с диска\n",
        "preprocessed = load_from_google_drive('14dcZnE_XvVeCgWCDgJSZiHgYJQm-TYvD', 'preprocessed.json')\n",
        "\n",
        "\n",
        "def get_tf_idf_weights(preprocessed):\n",
        "    \"\"\"Эта функция получает на вход подготовленные тексты вида \n",
        "    'искать junior backend разработчик готовый работать команда'\n",
        "    и составляет по ним словарь весов ключевых слов: \n",
        "    {'искать': 0.54, 'junior': 0.73, ...}\n",
        "    \"\"\"\n",
        "    vectorizer = TfidfVectorizer(ngram_range=(1, 2))\n",
        "    vectorizer.fit(preprocessed)\n",
        "\n",
        "    tf_idf_words = vectorizer.get_feature_names_out()\n",
        "    tf_idf_table = vectorizer.transform(preprocessed).toarray()\n",
        "    weights = tf_idf_table.sum(axis=0)\n",
        "    indices_order = weights.argsort()[::-1]\n",
        "\n",
        "    tf_idf_words[indices_order]\n",
        "\n",
        "    frequencies = dict(zip(tf_idf_words, weights))\n",
        "\n",
        "    return frequencies\n",
        "\n",
        "frequencies = get_tf_idf_weights(preprocessed)\n",
        "\n",
        "print('\\nКлючевые слова в описании вакансий:')\n",
        "cloud = WordCloud(background_color=\"white\")\n",
        "wc_descriptions = cloud.generate_from_frequencies(frequencies).to_image()\n",
        "wc_descriptions.show()\n",
        "wc_descriptions.save('word_cloud_descriptions.png')"
      ],
      "metadata": {
        "id": "pkb-0aJvRRUF"
      },
      "execution_count": null,
      "outputs": []
    },
    {
      "cell_type": "markdown",
      "source": [
        "## 1 Отправка email"
      ],
      "metadata": {
        "id": "EfCqDdy7Gl8B"
      }
    },
    {
      "cell_type": "markdown",
      "source": [
        "\n",
        "\n",
        "Для того, чтобы почтовый сервер не заблокировал отправку сообщений, **нам нужно открыть доступ к ящику для приложений**. Это снизит его безопасность, поэтому **рекомендуется завести отдельную почту** для практики.\n",
        "\n",
        "Инструкция подходит для **Яндекс Почты** (для Почты Google нужно больше шагов, поэтому ее не используем):\n",
        "\n",
        "1. Зарегистрируйте новый Яндекс ID (понадобится номер телефона для получения СМС).\n",
        "2. Зайдите в почту https://mail.yandex.ru/, затем в Настройки (⚙️ в правом верхнем углу) - \"Все настройки\" - в меню слева \"Почтовые программы\"\n",
        "3. Поставьте галочку напротив \"**С сервера imap.yandex.ru по протоколу IMAP**\"\n",
        "4. Не забудьте про кнопку \"сохранить изменения\" :)\n"
      ],
      "metadata": {
        "id": "yX28HzRicAbc"
      }
    },
    {
      "cell_type": "markdown",
      "source": [
        "\n",
        "<img src='https://drive.google.com/uc?export=view&id=1CCaxlMGJdjxejnXkjIkqTJxeChw3SxjQ' height=250 border='1' alt='Скриншот: Открытие доступа'>"
      ],
      "metadata": {
        "id": "QQB6R3-0-qsT"
      }
    },
    {
      "cell_type": "markdown",
      "source": [
        "5. Создайте пароль приложения. В том же меню на вкладке \"Безопасность\" перейдите по ссылке \"пароли приложений\". Имя можно выбрать любое.\n",
        "\n",
        "\t⚠️ **Обязательно скопируйте сгенерированный пароль** приложения перед тем, как закрыть страницу. Пароль показывается только 1 раз. Иначе придется генерировать заново. \t⚠️\n",
        "\n",
        "Удалить или создать нновый пароль можно в настройках аккаунта Яндекс ID: https://id.yandex.ru/security/app-passwords\n",
        "\n",
        "<img src='https://drive.google.com/uc?export=view&id=1I1cxrPNorAW5EefV42HIxf35q9rgXk3z' height=250\n",
        "border='1' alt='Скриншот: Вкладка Безопасность'>\n",
        "\n",
        "<img src='https://drive.google.com/uc?export=view&id=1bZWDtviPMhOdxf_SqYEz4RVGRSeCybH5' width=550\n",
        "border='1' alt='Скриншот: Создание пароля'>\n",
        "\n",
        "⚠️ Не забудьте скопировать пароль перед закрытием страницы ⚠️ \n",
        "<img src='https://drive.google.com/uc?export=view&id=195ZEz_0nnsgyKYq3bOmzVW3Jd4SpvFhw' width=550\n",
        "border='1' alt='Скриншот: Создание пароля'>"
      ],
      "metadata": {
        "id": "xitRyL9lOTYP"
      }
    },
    {
      "cell_type": "markdown",
      "source": [
        "Сохранив пароль с предыдущего шага, создайте  файл `'credentials.json'` со следующим содержанием:\n",
        "\n",
        "```json\n",
        "{\n",
        "    \"email\": \"<почтовый адрес>\",\n",
        "    \"password\": \"<пароль>\"\n",
        "}\n",
        "```\n",
        "<img src='https://drive.google.com/uc?export=view&id=1EzGEjHvnC3e8skg8ta-RIqxAdEQcDCfL' height=200\n",
        "border='1' alt='Скриншот: создать файл'>\n",
        "\n",
        "После создания файл можно переименовать и открыть для редактирования прямо в Colab. Можно создать файл на компьютере и загрузить в рабочую область.\n"
      ],
      "metadata": {
        "id": "6zkcUwxiCyCw"
      }
    },
    {
      "cell_type": "code",
      "source": [
        "import json\n",
        "import os\n",
        "\n",
        "# Прочитаем данные из файла\n",
        "cred_filename = 'credentials.json'\n",
        "\n",
        "if os.path.exists(cred_filename):\n",
        "    with open(cred_filename) as f:\n",
        "        credentials = json.load(f)\n",
        "else:\n",
        "    print(f'Файл с реквизитами к почтовому ящику {cred_filename} не найден,',\n",
        "          'пожалуйста, воспользуйтесь инструкцией выше')"
      ],
      "metadata": {
        "id": "gvYclfsQGzWN"
      },
      "execution_count": null,
      "outputs": []
    },
    {
      "cell_type": "code",
      "source": [
        "# Проверим, что все данные на месте.\n",
        "# Функция .keys(), вызванная у словаря, покажет список его ключей. \n",
        "# Должно получиться dict_keys(['email', 'password'])\n",
        "credentials.keys()"
      ],
      "metadata": {
        "id": "NQ3yDD3eHq5x"
      },
      "execution_count": null,
      "outputs": []
    },
    {
      "cell_type": "markdown",
      "source": [
        "Работать с почтой будем с помощью библиотек smtplib и email.\n",
        "\n",
        "Больше примеров кода для генерации писем есть в библиотеке: https://docs.python.org/3/library/email.examples.html"
      ],
      "metadata": {
        "id": "QyX04OCJIauX"
      }
    },
    {
      "cell_type": "code",
      "source": [
        "import smtplib\n",
        "from email.message import EmailMessage"
      ],
      "metadata": {
        "id": "O8N1-9cIIXG7"
      },
      "execution_count": null,
      "outputs": []
    },
    {
      "cell_type": "code",
      "source": [
        "sender = credentials['email']\n",
        "password = credentials['password']\n",
        "\n",
        "msg = EmailMessage()\n",
        "msg['Subject'] = 'Python test'\n",
        "msg['From'] = sender\n",
        "msg['To'] = sender # Тут можете вставить произвольный адрес\n",
        "msg.set_content('Hello')\n",
        "# 587\n",
        "with smtplib.SMTP_SSL('smtp.yandex.ru', 465) as smtp:\n",
        "    smtp.login(sender, password)\n",
        "    smtp.send_message(msg)"
      ],
      "metadata": {
        "id": "Po2FeMaiLw1o"
      },
      "execution_count": null,
      "outputs": []
    },
    {
      "cell_type": "markdown",
      "source": [
        "Добавляем больше информации"
      ],
      "metadata": {
        "id": "MsB1vPwv-2xi"
      }
    },
    {
      "cell_type": "code",
      "source": [
        "sender = credentials['email']\n",
        "password = credentials['password']\n",
        "\n",
        "msg = EmailMessage()\n",
        "msg['Subject'] = 'Python test'\n",
        "msg['From'] = sender\n",
        "msg['To'] = sender # Тут можете вставить произвольный адрес\n",
        "\n",
        "msg.set_content('Hello')\n",
        "\n",
        "html_content = f'''\n",
        "Добрый день, дорогой подписчик!<br>\n",
        "<br>\n",
        "Присылаем дайджест с трендами в вакансиях для Python-разработчиков!<br>\n",
        "\n",
        "Основные навыки:<br>\n",
        "<img src=\"cid:0\" style=\"width:200px\"><br>\n",
        "<br>\n",
        "Самые популярные ключевые слова в описании вакансий:<br>\n",
        "\n",
        "<img src=\"cid:1\" style=\"width:200px\"><br>\n",
        "<br>\n",
        "Во вложениях&nbsp;&mdash; подробная информация о вакансиях.<br>\n",
        "<br>\n",
        "<br>\n",
        "С уважением,<br>\n",
        "Python-разработчик 🐍\n",
        "'''\n",
        "msg.add_alternative(html_content, subtype='html') # Вставляем HTML\n",
        "\n",
        "\n",
        "\n",
        "# Считываем файл в бинарном виде\n",
        "\n",
        "with open('word_cloud_skills.png', 'rb') as f:\n",
        "        file_data = f.read()\n",
        "        msg.get_payload()[1].add_related(\n",
        "            file_data, 'word_cloud_skills.png', 'png', cid='<0>')\n",
        "\n",
        "with open('word_cloud_descriptions.png', 'rb') as f:\n",
        "        file_data = f.read()\n",
        "        msg.get_payload()[1].add_related(\n",
        "            file_data, 'word_cloud_descriptions.png', 'png', cid='<1>')\n",
        "\n",
        "with open('Подробное описание вакансий.xlsx', 'rb') as f:\n",
        "        file_data = f.read()\n",
        "        msg.add_attachment(file_data, maintype=\"application\", subtype=\"xlsx\", \n",
        "                           filename='Подробное описание вакансий.xlsx')\n",
        "\n",
        "\n",
        "with smtplib.SMTP_SSL('smtp.yandex.ru', 465) as smtp:\n",
        "    smtp.login(sender, password)\n",
        "    smtp.send_message(msg)"
      ],
      "metadata": {
        "id": "YPd9dFjvYaPE"
      },
      "execution_count": null,
      "outputs": []
    },
    {
      "cell_type": "code",
      "source": [
        "def send_email(to, sender, password):\n",
        "    msg = EmailMessage()\n",
        "    msg['Subject'] = 'Тренды вакансий'\n",
        "    msg['From'] = sender\n",
        "    msg['To'] = to\n",
        "\n",
        "    msg.set_content('Персональная подборка вакансий')\n",
        "\n",
        "    # Вставляем HTML\n",
        "    html_content = f'''\n",
        "    Добрый день, дорогой подписчик!<br>\n",
        "    <br>\n",
        "    Присылаем дайджест с трендами в вакансиях для Python-разработчиков!<br>\n",
        "\n",
        "    Основные навыки:<br>\n",
        "    <img src=\"cid:0\" style=\"width:200px\"><br>\n",
        "    <br>\n",
        "    Самые популярные ключевые слова в описании вакансий:<br>\n",
        "\n",
        "    <img src=\"cid:1\" style=\"width:200px\"><br>\n",
        "    <br>\n",
        "    Во вложениях&nbsp;&mdash; подробная информация о вакансиях.<br>\n",
        "    <br>\n",
        "    <br>\n",
        "    С уважением,<br>\n",
        "    Python-разработчик 🐍\n",
        "    '''\n",
        "    msg.add_alternative(html_content, subtype='html') \n",
        "\n",
        "    # Считываем файлы в бинарном виде и прикрепляем к письму\n",
        "\n",
        "    with open('word_cloud_skills.png', 'rb') as f:\n",
        "            file_data = f.read()\n",
        "            msg.get_payload()[-1].add_related(\n",
        "                file_data, 'word_cloud_skills.png', 'png', cid='<0>')\n",
        "\n",
        "    with open('word_cloud_descriptions.png', 'rb') as f:\n",
        "            file_data = f.read()\n",
        "            msg.get_payload()[-1].add_related(\n",
        "                file_data, 'word_cloud_descriptions.png', 'png', cid='<1>')\n",
        "\n",
        "    with open('Подробное описание вакансий.xlsx', 'rb') as f:\n",
        "            file_data = f.read()\n",
        "            msg.add_attachment(\n",
        "                file_data, maintype=\"application\", subtype=\"xlsx\", \n",
        "                filename='Подробное описание вакансий.xlsx')\n",
        "\n",
        "    with smtplib.SMTP_SSL('smtp.yandex.ru', 465) as smtp:\n",
        "        smtp.login(sender, password)\n",
        "        smtp.send_message(msg)"
      ],
      "metadata": {
        "id": "ZXBTWLWEBIMC"
      },
      "execution_count": null,
      "outputs": []
    },
    {
      "cell_type": "markdown",
      "source": [
        "## 2 Соберем функцию генерации отчета и запустим по расписанию отправку дайджеста"
      ],
      "metadata": {
        "id": "gINN643GTUFU"
      }
    },
    {
      "cell_type": "code",
      "source": [
        "def generate_digest(text=\"python\", experience=None, \n",
        "                    employment=None, schedule=None,\n",
        "                    load_presaved=False):\n",
        "    \"\"\"Эта функция объединяет в себе все предыдущие и с нуля генерирует все нужные \n",
        "    для отправки email файлы. \n",
        "    Если параметр load_presaved=True, остальные параметры будут проигнорированы и\n",
        "    загрузится предсохраненная версия с диска.\n",
        "    \"\"\"\n",
        "    \n",
        "    if load_presaved:\n",
        "        vacancies_full = load_from_google_drive(\n",
        "            '1d2NfxfM2n48m5WS6oCCc3rcQ4hdnTQ1v', 'vacancies_full.json')\n",
        "    else:\n",
        "        vacancies = get_vacancies(text, experience, employment, schedule)\n",
        "        print('Загружено', len(vacancies), 'вакансий')\n",
        "        vacancies_full = get_full_descriptions(vacancies)\n",
        "\n",
        "    all_skills = []\n",
        "    for vacancy in vacancies_full:\n",
        "        for skill in vacancy['key_skills']:\n",
        "            all_skills.append(skill['name'])\n",
        "\n",
        "    frequencies = Counter(all_skills)\n",
        "\n",
        "    pd.DataFrame(vacancies_full).to_excel('Подробное описание вакансий.xlsx')\n",
        "\n",
        "    print('Топ навыков Python-разработчика:')\n",
        "    cloud = WordCloud(background_color=\"white\")\n",
        "    wc_skills = cloud.generate_from_frequencies(frequencies).to_image()\n",
        "    wc_skills.show()\n",
        "    wc_skills.save('word_cloud_skills.png')\n",
        "\n",
        "    vacancies_df = pd.DataFrame(vacancies_full)\n",
        "\n",
        "    if load_presaved:\n",
        "        preprocessed = load_from_google_drive(\n",
        "            '14dcZnE_XvVeCgWCDgJSZiHgYJQm-TYvD', 'preprocessed.json')\n",
        "    else:\n",
        "        preprocessed = preprocess_all(vacancies_df['description'])\n",
        "    \n",
        "    frequencies = get_tf_idf_weights(preprocessed)\n",
        "\n",
        "    print('\\nКлючевые слова в описании вакансий:')\n",
        "    cloud = WordCloud(background_color=\"white\")\n",
        "    wc_descriptions = cloud.generate_from_frequencies(frequencies).to_image()\n",
        "    wc_descriptions.show()\n",
        "    wc_descriptions.save('word_cloud_descriptions.png')"
      ],
      "metadata": {
        "id": "N5lxFqlXdE8b"
      },
      "execution_count": null,
      "outputs": []
    },
    {
      "cell_type": "markdown",
      "source": [
        "[schedule](https://schedule.readthedocs.io/en/stable/) - простейшая библиотека для планирования выполнения скрипта"
      ],
      "metadata": {
        "id": "cymfYo7vGyDK"
      }
    },
    {
      "cell_type": "code",
      "source": [
        "!pip install schedule"
      ],
      "metadata": {
        "id": "qqEsYXdWHAJd"
      },
      "execution_count": null,
      "outputs": []
    },
    {
      "cell_type": "code",
      "source": [
        "import schedule\n",
        "import time\n",
        "\n",
        "def job():\n",
        "    print(\"I'm working...\", time.strftime(\"%H:%M:%S\", time.localtime()))\n",
        "\n",
        "# schedule.every(10).minutes.do(job)\n",
        "# schedule.every().hour.do(job)\n",
        "# schedule.every().day.at(\"10:30\").do(job)\n",
        "# schedule.every().monday.do(job)\n",
        "# schedule.every().wednesday.at(\"13:15\").do(job)\n",
        "# schedule.every().day.at(\"12:42\", \"Europe/Moscow\").do(job)\n",
        "# schedule.every().minute.at(\":17\").do(job)\n",
        "\n",
        "schedule.clear()\n",
        "schedule.every(3).seconds.do(job)\n",
        "\n",
        "schedule.run_all()\n",
        "\n",
        "\n",
        "# Этот цикл будет повторяться бесконечно, пока ячейка не будет остановлена вручную\n",
        "# (это вызовет KeyboardInterrupt - просто переходим к выполнению следующей ячейки)\n",
        "while True:\n",
        "    schedule.run_pending()\n",
        "    time.sleep(1)"
      ],
      "metadata": {
        "id": "2ycS2K-bGlXI"
      },
      "execution_count": null,
      "outputs": []
    },
    {
      "cell_type": "code",
      "source": [
        "def job_send_digest():\n",
        "    \"\"\"Эта функция вызывает последовательно генерацию и отправку отчета. \n",
        "    Так как она запускается планировщиком по расписанию, она не должна иметь параметров.\n",
        "    \"\"\"\n",
        "    generate_digest(load_presaved=True)\n",
        "    # Если хотим разослать одни и те же данные нескольким пользователям, нужно создать\n",
        "    # список адресов и вызывать функцию send_email(to, ...) в цикле\n",
        "    send_email(credentials['email'],\n",
        "               credentials['email'], \n",
        "               credentials['password'])\n",
        "    \n",
        "schedule.clear()\n",
        "schedule.every(1).day.do(job_send_digest)\n",
        "schedule.run_all()\n",
        "\n",
        "# Этот цикл будет повторяться бесконечно, пока ячейка не будет остановлена вручную\n",
        "# (это вызовет KeyboardInterrupt - просто переходим к выполнению следующей ячейки)\n",
        "while True:\n",
        "    schedule.run_pending()\n",
        "    time.sleep(1)"
      ],
      "metadata": {
        "id": "3RnxVxnjGtWl"
      },
      "execution_count": null,
      "outputs": []
    },
    {
      "cell_type": "markdown",
      "source": [
        "# Собираем воедино весь проект"
      ],
      "metadata": {
        "id": "Fk5kF637RXwq"
      }
    },
    {
      "cell_type": "markdown",
      "source": [
        "## За 3 дня мы разобрались с основными задачами и инструментами, с которыми приходится сталкиваться фрилансеру\n",
        "\n",
        "* **Получение даннных из интернета** (API, JSON, библиотеки requests и bs4)\n",
        "* **Загрузка данных в Excel-таблицу** (pandas)\n",
        "* **Парсинг данных** (HTML, bs4, natasha)\n",
        "* **Data Mining, интеллектуальный анализ данных, Natural Language Processing и выделение наиболее значимой информации из текстов** (sklearn)\n",
        "* **Работа с файлами на диске** (os)\n",
        "* **Автоматизация рутины: отправка email по расписанию** (smtplib, email, schedule, time, создание пароля приложений для почтового ящика)"
      ],
      "metadata": {
        "id": "SzJ0iQrEgLbN"
      }
    },
    {
      "cell_type": "code",
      "source": [
        "!pip install natasha schedule --quiet"
      ],
      "metadata": {
        "id": "Ghu1pxPVRbKS"
      },
      "execution_count": null,
      "outputs": []
    },
    {
      "cell_type": "code",
      "source": [
        "import requests\n",
        "\n",
        "dictionaries = requests.get('https://api.hh.ru/dictionaries').json()"
      ],
      "metadata": {
        "id": "p6SwfswUQSOi"
      },
      "execution_count": null,
      "outputs": []
    },
    {
      "cell_type": "code",
      "source": [
        "dictionaries['experience']"
      ],
      "metadata": {
        "id": "Oxx0ReizQfLr"
      },
      "execution_count": null,
      "outputs": []
    },
    {
      "cell_type": "code",
      "source": [
        "dictionaries['employment']"
      ],
      "metadata": {
        "id": "VnByIhXNQfOY"
      },
      "execution_count": null,
      "outputs": []
    },
    {
      "cell_type": "code",
      "source": [
        "dictionaries['schedule']"
      ],
      "metadata": {
        "id": "AfrdCtAsQfRW"
      },
      "execution_count": null,
      "outputs": []
    },
    {
      "cell_type": "code",
      "source": [
        "import os\n",
        "import time\n",
        "import json\n",
        "import requests\n",
        "from IPython.display import display, clear_output\n",
        "import tqdm\n",
        "import tqdm.notebook\n",
        "\n",
        "import bs4\n",
        "import pandas as pd\n",
        "from collections import Counter\n",
        "from wordcloud import WordCloud\n",
        "import smtplib\n",
        "from email.message import EmailMessage\n",
        "import schedule\n",
        "from natasha import Doc, MorphVocab, NewsEmbedding, NewsMorphTagger, Segmenter\n",
        "from sklearn.feature_extraction.text import TfidfVectorizer\n",
        "\n",
        "\n",
        "# Код 1-го дня: загрузка данных из интернета\n",
        "\n",
        "def dump_json(obj, filename):\n",
        "    \"\"\"Функция сохранения JSON-файла на диск\"\"\"\n",
        "    with open(filename, 'w', encoding='UTF-8') as f:\n",
        "        json.dump(obj, f, ensure_ascii=False, indent=4)\n",
        "\n",
        "\n",
        "def get_vacancies(text=\"python\", \n",
        "                  experience=None, employment=None, schedule=None):\n",
        "    \"\"\"Функция для скачивания данных по API HeadHunter\"\"\"\n",
        "    params = {\n",
        "            \"per_page\": 100,\n",
        "            \"page\": 0,\n",
        "            \"period\": 30,\n",
        "            \"text\": 'python',\n",
        "            \"experience\": experience,\n",
        "            \"employment\": employment,\n",
        "            \"schedule\": schedule,\n",
        "        }\n",
        "\n",
        "    res = requests.get(\"https://api.hh.ru/vacancies\", params=params)\n",
        "    if not res.ok:\n",
        "        print('Error:', res)\n",
        "    vacancies = res.json()[\"items\"]\n",
        "    pages = res.json()['pages']\n",
        "\n",
        "    for page in tqdm.trange(1, pages):\n",
        "        params['page'] = page\n",
        "        res = requests.get(\"https://api.hh.ru/vacancies\", params=params)\n",
        "        if res.ok:\n",
        "            response_json = res.json()\n",
        "            vacancies.extend(response_json[\"items\"])\n",
        "        else:\n",
        "            print(res)\n",
        "    \n",
        "    dump_json(vacancies, 'vacancies.json')\n",
        "\n",
        "    return vacancies\n",
        "\n",
        "\n",
        "def get_full_descriptions(vacancies):\n",
        "    \"\"\"Функция для скачивания полного описания вакансий (работает 20 минут!)\"\"\"\n",
        "    vacancies_full = []\n",
        "    for entry in tqdm.tqdm(vacancies):\n",
        "        vacancy_id = entry['id']\n",
        "        description = requests.get(f\"https://api.hh.ru/vacancies/{vacancy_id}\")\n",
        "        vacancies_full.append(description.json())\n",
        "        print(description.json())\n",
        "        time.sleep(0.2) # Этот таймаут нужен, чтобы hh не начал запрашивать капчу\n",
        "        clear_output()\n",
        "\n",
        "    dump_json(vacancies_full, 'vacancies_full.json')\n",
        "\n",
        "    return vacancies_full\n",
        "\n",
        "\n",
        "def load_from_google_drive(file_id, filename):\n",
        "    \"\"\"Функция для загрузки уже скаченного файла вместо get_full_descriptions\"\"\"\n",
        "    url = f\"https://drive.google.com/uc?export=view&id={file_id}\"\n",
        "    res = requests.get(url)\n",
        "    data = res.json()\n",
        "    dump_json(data, filename)\n",
        "    return data\n",
        "\n",
        "\n",
        "# Код 2-го дня: Data Mining - выделение ключевых слов\n",
        "\n",
        "def preprocess(text):\n",
        "    \"\"\"Функция для предварительной обработки текста одной вакансии:\n",
        "    '<p><strong>Кого мы ищем:</strong><br/>Junior Backend разработчика, готового работать в команде.</p> <p><strong>'\n",
        "     ↓ ↓ ↓\n",
        "    'искать junior backend разработчик готовый работать команда'\n",
        "    \"\"\"\n",
        "    parsed_html = bs4.BeautifulSoup(text)\n",
        "    text = parsed_html.text # удалили тэги\n",
        "    \n",
        "    morph_vocab = MorphVocab()\n",
        "    segmenter = Segmenter()\n",
        "    embedding = NewsEmbedding()\n",
        "    morph_tagger = NewsMorphTagger(embedding)\n",
        "    doc = Doc(text)\n",
        "    doc.segment(segmenter)\n",
        "    doc.tag_morph(morph_tagger)\n",
        "\n",
        "    words = []\n",
        "\n",
        "    for token in doc.tokens:\n",
        "        # Если часть речи не входит в список: [знак пунктуации, предлог, союз, местоимение], выполняем:\n",
        "        if token.pos not in ['PUNCT', 'ADP', 'CCONJ', 'PRON']:  \n",
        "            # Преобразуем к нормальной форме 'способов' -> 'способ'\n",
        "            token.lemmatize(morph_vocab)\n",
        "            # Добавляем в общий список \n",
        "            words.append(token.lemma)\n",
        "\n",
        "    # Объединяем список элементов в одну строку через пробел\n",
        "    # ['обязанность', 'писать',  'код'] -> 'обязанность писать код'\n",
        "    line = ' '.join(words)\n",
        "\n",
        "    return line\n",
        "\n",
        "\n",
        "def preprocess_all(document_collection):\n",
        "    \"\"\"Функция для обработки всех вакансий. На вход функция получает список с описаниями.\n",
        "    Работает до получаса!\n",
        "    \"\"\"\n",
        "    preprocessed = []\n",
        "    for vacancy in tqdm.tqdm(preprocess_all):\n",
        "        preprocessed.append(preprocess(vacancy))\n",
        "\n",
        "    dump_json(preprocessed, 'preprocessed.json')\n",
        "\n",
        "    return preprocessed\n",
        "\n",
        "\n",
        "def get_tf_idf_weights(preprocessed):\n",
        "    \"\"\"Эта функция получает на вход подготовленные тексты вида \n",
        "    'искать junior backend разработчик готовый работать команда'\n",
        "    и составляет по ним словарь весов ключевых слов: \n",
        "    {'искать': 0.54, 'junior': 0.73, ...}\n",
        "    \"\"\"\n",
        "    vectorizer = TfidfVectorizer(ngram_range=(1, 2))\n",
        "    #  Обучаем объект векторизатора (функции, кодирующий текст в виде последовательностей чисел)\n",
        "    vectorizer.fit(preprocessed)\n",
        "\n",
        "    tf_idf_words = vectorizer.get_feature_names_out()\n",
        "    tf_idf_table = vectorizer.transform(preprocessed).toarray()\n",
        "    weights = tf_idf_table.sum(axis=0)\n",
        "    indices_order = weights.argsort()[::-1]\n",
        "\n",
        "    tf_idf_words[indices_order]\n",
        "\n",
        "    frequencies = dict(zip(tf_idf_words, weights))\n",
        "\n",
        "    return frequencies\n",
        "\n",
        "# Код 3-го дня: автоматизация email-рассылки по расписанию\n",
        "\n",
        "def generate_digest(text=\"python\", experience=None, \n",
        "                    employment=None, schedule=None,\n",
        "                    load_presaved=False):\n",
        "    \"\"\"Эта функция объединяет в себе все предыдущие и с нуля генерирует все нужные \n",
        "    для отправки email файлы. \n",
        "    Если параметр load_presaved=True, остальные параметры будут проигнорированы и\n",
        "    загрузится предсохраненная версия с диска.\n",
        "    \"\"\"\n",
        "    if load_presaved:\n",
        "        vacancies_full = load_from_google_drive(\n",
        "            '1d2NfxfM2n48m5WS6oCCc3rcQ4hdnTQ1v', 'vacancies_full.json')\n",
        "    else:\n",
        "        vacancies = get_vacancies(text, experience, employment, schedule)\n",
        "        print('Загружено', len(vacancies), 'вакансий')\n",
        "        vacancies_full = get_full_descriptions(vacancies)\n",
        "\n",
        "    all_skills = []\n",
        "    for vacancy in vacancies_full:\n",
        "        for skill in vacancy['key_skills']:\n",
        "            all_skills.append(skill['name'])\n",
        "\n",
        "    frequencies = Counter(all_skills)\n",
        "\n",
        "    pd.DataFrame(vacancies_full).to_excel('Подробное описание вакансий.xlsx')\n",
        "\n",
        "    print('Топ навыков Python-разработчика:')\n",
        "    cloud = WordCloud(background_color=\"white\")\n",
        "    wc_skills = cloud.generate_from_frequencies(frequencies).to_image()\n",
        "    wc_skills.show()\n",
        "    wc_skills.save('word_cloud_skills.png')\n",
        "\n",
        "    vacancies_df = pd.DataFrame(vacancies_full)\n",
        "\n",
        "    if load_presaved:\n",
        "        preprocessed = load_from_google_drive(\n",
        "            '14dcZnE_XvVeCgWCDgJSZiHgYJQm-TYvD', 'preprocessed.json')\n",
        "    else:\n",
        "        preprocessed = preprocess_all(vacancies_df['description'])\n",
        "    \n",
        "    frequencies = get_tf_idf_weights(preprocessed)\n",
        "\n",
        "    print('\\nКлючевые слова в описании вакансий:')\n",
        "    cloud = WordCloud(background_color=\"white\")\n",
        "    wc_descriptions = cloud.generate_from_frequencies(frequencies).to_image()\n",
        "    wc_descriptions.show()\n",
        "    wc_descriptions.save('word_cloud_descriptions.png')\n",
        "\n",
        "\n",
        "def send_email(to, sender, password):\n",
        "    \"\"\"Эта функция отправляет email\"\"\"\n",
        "    msg = EmailMessage()\n",
        "    msg['Subject'] = 'Тренды вакансий'\n",
        "    msg['From'] = sender\n",
        "    msg['To'] = to\n",
        "\n",
        "    msg.set_content('Персональная подборка вакансий')\n",
        "\n",
        "    # Вставляем HTML\n",
        "    html_content = f'''\n",
        "    Добрый день, дорогой подписчик!<br>\n",
        "    <br>\n",
        "    Присылаем дайджест с трендами в вакансиях для Python-разработчиков!<br>\n",
        "\n",
        "    Основные навыки:<br>\n",
        "    <img src=\"cid:0\" style=\"width:200px\"><br>\n",
        "    <br>\n",
        "    Самые популярные ключевые слова в описании вакансий:<br>\n",
        "\n",
        "    <img src=\"cid:1\" style=\"width:200px\"><br>\n",
        "    <br>\n",
        "    Во вложениях&nbsp;&mdash; подробная информация о вакансиях.<br>\n",
        "    <br>\n",
        "    <br>\n",
        "    С уважением,<br>\n",
        "    Python-разработчик 🐍\n",
        "    '''\n",
        "    msg.add_alternative(html_content, subtype='html') \n",
        "\n",
        "    # Считываем файлы в бинарном виде и прикрепляем к письму\n",
        "\n",
        "    with open('word_cloud_skills.png', 'rb') as f:\n",
        "            file_data = f.read()\n",
        "            msg.get_payload()[-1].add_related(\n",
        "                file_data, 'word_cloud_skills.png', 'png', cid='<0>')\n",
        "\n",
        "    with open('word_cloud_descriptions.png', 'rb') as f:\n",
        "            file_data = f.read()\n",
        "            msg.get_payload()[-1].add_related(\n",
        "                file_data, 'word_cloud_descriptions.png', 'png', cid='<1>')\n",
        "\n",
        "    with open('Подробное описание вакансий.xlsx', 'rb') as f:\n",
        "            file_data = f.read()\n",
        "            msg.add_attachment(\n",
        "                file_data, maintype=\"application\", \n",
        "                subtype=\"xlsx\", filename='Подробное описание вакансий.xlsx')\n",
        "\n",
        "    with smtplib.SMTP_SSL('smtp.yandex.ru', 465) as smtp:\n",
        "        smtp.login(sender, password)\n",
        "        smtp.send_message(msg)\n",
        "\n",
        "\n",
        "# Прочитаем данные c логином и паролем из файла\n",
        "cred_filename = 'credentials.json'\n",
        "\n",
        "if os.path.exists(cred_filename):\n",
        "    with open(cred_filename) as f:\n",
        "        credentials = json.load(f)\n",
        "else:\n",
        "    raise FileNotFoundError(\n",
        "        f'Файл с реквизитами к почтовому ящику {cred_filename} не найден,\\n'\n",
        "        'пожалуйста, воспользуйтесь инструкцией выше')\n",
        "\n",
        "\n",
        "def job_send_digest():\n",
        "    \"\"\"Эта функция вызывает последовательно генерацию и отправку отчета. \n",
        "    Так как она запускается планировщиком по расписанию, она не должна иметь параметров.\n",
        "    \"\"\"\n",
        "    # Вариант набора параметров (суммарно отрабатывает примерно 12 минут вместо 50)\n",
        "    generate_digest(\n",
        "        # Тут можно настроить параметры (не забудьте отключить load_presaved)\n",
        "        text=\"python\",\n",
        "        experience='noExperience', \n",
        "        employment=['full', 'part'], \n",
        "        schedule=['fullDay', 'remote'],\n",
        "        # Чтобы загружать новые данные по найденным параметрам, \n",
        "        # замените следующую строчку на load_presaved=False,\n",
        "        # а чтобы получить предсохраненные данные - на load_presaved=True\n",
        "        load_presaved=False\n",
        "        )\n",
        "\n",
        "    # Если хотим разослать одни и те же данные нескольким пользователям, нужно создать\n",
        "    # список адресов и вызывать функцию send_email(to, ...) в цикле\n",
        "    send_email(credentials['email'],\n",
        "               credentials['email'], \n",
        "               credentials['password'])\n",
        "    \n",
        "\n",
        "schedule.clear()\n",
        "schedule.every(1).day.do(job_send_digest)\n",
        "schedule.run_all()\n",
        "\n",
        "\n",
        "# Этот цикл будет повторяться бесконечно, пока ячейка не будет остановлена вручную\n",
        "# (это вызовет KeyboardInterrupt - просто переходим к выполнению следующей ячейки)\n",
        "while True:\n",
        "    schedule.run_pending()\n",
        "    time.sleep(1)"
      ],
      "metadata": {
        "id": "nTU6V4ArRfnT",
        "colab": {
          "base_uri": "https://localhost:8080/",
          "height": 633
        },
        "outputId": "9fe63ac2-e496-4e3e-9b34-f2ffffffd9ab"
      },
      "execution_count": null,
      "outputs": [
        {
          "output_type": "stream",
          "name": "stderr",
          "text": [
            "100%|██████████| 415/415 [04:36<00:00,  1.50it/s]\n"
          ]
        },
        {
          "output_type": "stream",
          "name": "stdout",
          "text": [
            "Топ навыков Python-разработчика:\n"
          ]
        },
        {
          "output_type": "display_data",
          "data": {
            "text/plain": [
              "<PIL.Image.Image image mode=RGB size=400x200 at 0x7F2C2B15D6F0>"
            ],
            "image/png": "[encoded data removed]"
          },
          "metadata": {}
        },
        {
          "output_type": "stream",
          "name": "stderr",
          "text": [
            "0it [00:00, ?it/s]\n"
          ]
        },
        {
          "output_type": "error",
          "ename": "TypeError",
          "evalue": "ignored",
          "traceback": [
            "\u001b[0;31m---------------------------------------------------------------------------\u001b[0m",
            "\u001b[0;31mTypeError\u001b[0m                                 Traceback (most recent call last)",
            "\u001b[0;32m<ipython-input-3-b3b082d05923>\u001b[0m in \u001b[0;36m<cell line: 297>\u001b[0;34m()\u001b[0m\n\u001b[1;32m    295\u001b[0m \u001b[0mschedule\u001b[0m\u001b[0;34m.\u001b[0m\u001b[0mclear\u001b[0m\u001b[0;34m(\u001b[0m\u001b[0;34m)\u001b[0m\u001b[0;34m\u001b[0m\u001b[0;34m\u001b[0m\u001b[0m\n\u001b[1;32m    296\u001b[0m \u001b[0mschedule\u001b[0m\u001b[0;34m.\u001b[0m\u001b[0mevery\u001b[0m\u001b[0;34m(\u001b[0m\u001b[0;36m1\u001b[0m\u001b[0;34m)\u001b[0m\u001b[0;34m.\u001b[0m\u001b[0mday\u001b[0m\u001b[0;34m.\u001b[0m\u001b[0mdo\u001b[0m\u001b[0;34m(\u001b[0m\u001b[0mjob_send_digest\u001b[0m\u001b[0;34m)\u001b[0m\u001b[0;34m\u001b[0m\u001b[0;34m\u001b[0m\u001b[0m\n\u001b[0;32m--> 297\u001b[0;31m \u001b[0mschedule\u001b[0m\u001b[0;34m.\u001b[0m\u001b[0mrun_all\u001b[0m\u001b[0;34m(\u001b[0m\u001b[0;34m)\u001b[0m\u001b[0;34m\u001b[0m\u001b[0;34m\u001b[0m\u001b[0m\n\u001b[0m\u001b[1;32m    298\u001b[0m \u001b[0;34m\u001b[0m\u001b[0m\n\u001b[1;32m    299\u001b[0m \u001b[0;34m\u001b[0m\u001b[0m\n",
            "\u001b[0;32m/usr/local/lib/python3.10/dist-packages/schedule/__init__.py\u001b[0m in \u001b[0;36mrun_all\u001b[0;34m(delay_seconds)\u001b[0m\n\u001b[1;32m    827\u001b[0m     \u001b[0;34m:\u001b[0m\u001b[0mdata\u001b[0m\u001b[0;34m:\u001b[0m\u001b[0;31m`\u001b[0m\u001b[0mdefault\u001b[0m \u001b[0mscheduler\u001b[0m \u001b[0minstance\u001b[0m \u001b[0;34m<\u001b[0m\u001b[0mdefault_scheduler\u001b[0m\u001b[0;34m>\u001b[0m\u001b[0;31m`\u001b[0m\u001b[0;34m.\u001b[0m\u001b[0;34m\u001b[0m\u001b[0;34m\u001b[0m\u001b[0m\n\u001b[1;32m    828\u001b[0m     \"\"\"\n\u001b[0;32m--> 829\u001b[0;31m     \u001b[0mdefault_scheduler\u001b[0m\u001b[0;34m.\u001b[0m\u001b[0mrun_all\u001b[0m\u001b[0;34m(\u001b[0m\u001b[0mdelay_seconds\u001b[0m\u001b[0;34m=\u001b[0m\u001b[0mdelay_seconds\u001b[0m\u001b[0;34m)\u001b[0m\u001b[0;34m\u001b[0m\u001b[0;34m\u001b[0m\u001b[0m\n\u001b[0m\u001b[1;32m    830\u001b[0m \u001b[0;34m\u001b[0m\u001b[0m\n\u001b[1;32m    831\u001b[0m \u001b[0;34m\u001b[0m\u001b[0m\n",
            "\u001b[0;32m/usr/local/lib/python3.10/dist-packages/schedule/__init__.py\u001b[0m in \u001b[0;36mrun_all\u001b[0;34m(self, delay_seconds)\u001b[0m\n\u001b[1;32m    116\u001b[0m         )\n\u001b[1;32m    117\u001b[0m         \u001b[0;32mfor\u001b[0m \u001b[0mjob\u001b[0m \u001b[0;32min\u001b[0m \u001b[0mself\u001b[0m\u001b[0;34m.\u001b[0m\u001b[0mjobs\u001b[0m\u001b[0;34m[\u001b[0m\u001b[0;34m:\u001b[0m\u001b[0;34m]\u001b[0m\u001b[0;34m:\u001b[0m\u001b[0;34m\u001b[0m\u001b[0;34m\u001b[0m\u001b[0m\n\u001b[0;32m--> 118\u001b[0;31m             \u001b[0mself\u001b[0m\u001b[0;34m.\u001b[0m\u001b[0m_run_job\u001b[0m\u001b[0;34m(\u001b[0m\u001b[0mjob\u001b[0m\u001b[0;34m)\u001b[0m\u001b[0;34m\u001b[0m\u001b[0;34m\u001b[0m\u001b[0m\n\u001b[0m\u001b[1;32m    119\u001b[0m             \u001b[0mtime\u001b[0m\u001b[0;34m.\u001b[0m\u001b[0msleep\u001b[0m\u001b[0;34m(\u001b[0m\u001b[0mdelay_seconds\u001b[0m\u001b[0;34m)\u001b[0m\u001b[0;34m\u001b[0m\u001b[0;34m\u001b[0m\u001b[0m\n\u001b[1;32m    120\u001b[0m \u001b[0;34m\u001b[0m\u001b[0m\n",
            "\u001b[0;32m/usr/local/lib/python3.10/dist-packages/schedule/__init__.py\u001b[0m in \u001b[0;36m_run_job\u001b[0;34m(self, job)\u001b[0m\n\u001b[1;32m    170\u001b[0m \u001b[0;34m\u001b[0m\u001b[0m\n\u001b[1;32m    171\u001b[0m     \u001b[0;32mdef\u001b[0m \u001b[0m_run_job\u001b[0m\u001b[0;34m(\u001b[0m\u001b[0mself\u001b[0m\u001b[0;34m,\u001b[0m \u001b[0mjob\u001b[0m\u001b[0;34m:\u001b[0m \u001b[0;34m\"Job\"\u001b[0m\u001b[0;34m)\u001b[0m \u001b[0;34m->\u001b[0m \u001b[0;32mNone\u001b[0m\u001b[0;34m:\u001b[0m\u001b[0;34m\u001b[0m\u001b[0;34m\u001b[0m\u001b[0m\n\u001b[0;32m--> 172\u001b[0;31m         \u001b[0mret\u001b[0m \u001b[0;34m=\u001b[0m \u001b[0mjob\u001b[0m\u001b[0;34m.\u001b[0m\u001b[0mrun\u001b[0m\u001b[0;34m(\u001b[0m\u001b[0;34m)\u001b[0m\u001b[0;34m\u001b[0m\u001b[0;34m\u001b[0m\u001b[0m\n\u001b[0m\u001b[1;32m    173\u001b[0m         \u001b[0;32mif\u001b[0m \u001b[0misinstance\u001b[0m\u001b[0;34m(\u001b[0m\u001b[0mret\u001b[0m\u001b[0;34m,\u001b[0m \u001b[0mCancelJob\u001b[0m\u001b[0;34m)\u001b[0m \u001b[0;32mor\u001b[0m \u001b[0mret\u001b[0m \u001b[0;32mis\u001b[0m \u001b[0mCancelJob\u001b[0m\u001b[0;34m:\u001b[0m\u001b[0;34m\u001b[0m\u001b[0;34m\u001b[0m\u001b[0m\n\u001b[1;32m    174\u001b[0m             \u001b[0mself\u001b[0m\u001b[0;34m.\u001b[0m\u001b[0mcancel_job\u001b[0m\u001b[0;34m(\u001b[0m\u001b[0mjob\u001b[0m\u001b[0;34m)\u001b[0m\u001b[0;34m\u001b[0m\u001b[0;34m\u001b[0m\u001b[0m\n",
            "\u001b[0;32m/usr/local/lib/python3.10/dist-packages/schedule/__init__.py\u001b[0m in \u001b[0;36mrun\u001b[0;34m(self)\u001b[0m\n\u001b[1;32m    691\u001b[0m \u001b[0;34m\u001b[0m\u001b[0m\n\u001b[1;32m    692\u001b[0m         \u001b[0mlogger\u001b[0m\u001b[0;34m.\u001b[0m\u001b[0mdebug\u001b[0m\u001b[0;34m(\u001b[0m\u001b[0;34m\"Running job %s\"\u001b[0m\u001b[0;34m,\u001b[0m \u001b[0mself\u001b[0m\u001b[0;34m)\u001b[0m\u001b[0;34m\u001b[0m\u001b[0;34m\u001b[0m\u001b[0m\n\u001b[0;32m--> 693\u001b[0;31m         \u001b[0mret\u001b[0m \u001b[0;34m=\u001b[0m \u001b[0mself\u001b[0m\u001b[0;34m.\u001b[0m\u001b[0mjob_func\u001b[0m\u001b[0;34m(\u001b[0m\u001b[0;34m)\u001b[0m\u001b[0;34m\u001b[0m\u001b[0;34m\u001b[0m\u001b[0m\n\u001b[0m\u001b[1;32m    694\u001b[0m         \u001b[0mself\u001b[0m\u001b[0;34m.\u001b[0m\u001b[0mlast_run\u001b[0m \u001b[0;34m=\u001b[0m \u001b[0mdatetime\u001b[0m\u001b[0;34m.\u001b[0m\u001b[0mdatetime\u001b[0m\u001b[0;34m.\u001b[0m\u001b[0mnow\u001b[0m\u001b[0;34m(\u001b[0m\u001b[0;34m)\u001b[0m\u001b[0;34m\u001b[0m\u001b[0;34m\u001b[0m\u001b[0m\n\u001b[1;32m    695\u001b[0m         \u001b[0mself\u001b[0m\u001b[0;34m.\u001b[0m\u001b[0m_schedule_next_run\u001b[0m\u001b[0;34m(\u001b[0m\u001b[0;34m)\u001b[0m\u001b[0;34m\u001b[0m\u001b[0;34m\u001b[0m\u001b[0m\n",
            "\u001b[0;32m<ipython-input-3-b3b082d05923>\u001b[0m in \u001b[0;36mjob_send_digest\u001b[0;34m()\u001b[0m\n\u001b[1;32m    274\u001b[0m     \"\"\"\n\u001b[1;32m    275\u001b[0m     \u001b[0;31m# Вариант набора параметров (суммарно отрабатывает примерно 12 минут вместо 50)\u001b[0m\u001b[0;34m\u001b[0m\u001b[0;34m\u001b[0m\u001b[0m\n\u001b[0;32m--> 276\u001b[0;31m     generate_digest(\n\u001b[0m\u001b[1;32m    277\u001b[0m         \u001b[0;31m# Тут можно настроить параметры (не забудьте отключить load_presaved)\u001b[0m\u001b[0;34m\u001b[0m\u001b[0;34m\u001b[0m\u001b[0m\n\u001b[1;32m    278\u001b[0m         \u001b[0mtext\u001b[0m\u001b[0;34m=\u001b[0m\u001b[0;34m\"python\"\u001b[0m\u001b[0;34m,\u001b[0m\u001b[0;34m\u001b[0m\u001b[0;34m\u001b[0m\u001b[0m\n",
            "\u001b[0;32m<ipython-input-3-b3b082d05923>\u001b[0m in \u001b[0;36mgenerate_digest\u001b[0;34m(text, experience, employment, schedule, load_presaved)\u001b[0m\n\u001b[1;32m    193\u001b[0m             '14dcZnE_XvVeCgWCDgJSZiHgYJQm-TYvD', 'preprocessed.json')\n\u001b[1;32m    194\u001b[0m     \u001b[0;32melse\u001b[0m\u001b[0;34m:\u001b[0m\u001b[0;34m\u001b[0m\u001b[0;34m\u001b[0m\u001b[0m\n\u001b[0;32m--> 195\u001b[0;31m         \u001b[0mpreprocessed\u001b[0m \u001b[0;34m=\u001b[0m \u001b[0mpreprocess_all\u001b[0m\u001b[0;34m(\u001b[0m\u001b[0mvacancies_df\u001b[0m\u001b[0;34m[\u001b[0m\u001b[0;34m'description'\u001b[0m\u001b[0;34m]\u001b[0m\u001b[0;34m)\u001b[0m\u001b[0;34m\u001b[0m\u001b[0;34m\u001b[0m\u001b[0m\n\u001b[0m\u001b[1;32m    196\u001b[0m \u001b[0;34m\u001b[0m\u001b[0m\n\u001b[1;32m    197\u001b[0m     \u001b[0mfrequencies\u001b[0m \u001b[0;34m=\u001b[0m \u001b[0mget_tf_idf_weights\u001b[0m\u001b[0;34m(\u001b[0m\u001b[0mpreprocessed\u001b[0m\u001b[0;34m)\u001b[0m\u001b[0;34m\u001b[0m\u001b[0;34m\u001b[0m\u001b[0m\n",
            "\u001b[0;32m<ipython-input-3-b3b082d05923>\u001b[0m in \u001b[0;36mpreprocess_all\u001b[0;34m(document_collection)\u001b[0m\n\u001b[1;32m    125\u001b[0m     \"\"\"\n\u001b[1;32m    126\u001b[0m     \u001b[0mpreprocessed\u001b[0m \u001b[0;34m=\u001b[0m \u001b[0;34m[\u001b[0m\u001b[0;34m]\u001b[0m\u001b[0;34m\u001b[0m\u001b[0;34m\u001b[0m\u001b[0m\n\u001b[0;32m--> 127\u001b[0;31m     \u001b[0;32mfor\u001b[0m \u001b[0mvacancy\u001b[0m \u001b[0;32min\u001b[0m \u001b[0mtqdm\u001b[0m\u001b[0;34m.\u001b[0m\u001b[0mtqdm\u001b[0m\u001b[0;34m(\u001b[0m\u001b[0mpreprocess_all\u001b[0m\u001b[0;34m)\u001b[0m\u001b[0;34m:\u001b[0m\u001b[0;34m\u001b[0m\u001b[0;34m\u001b[0m\u001b[0m\n\u001b[0m\u001b[1;32m    128\u001b[0m         \u001b[0mpreprocessed\u001b[0m\u001b[0;34m.\u001b[0m\u001b[0mappend\u001b[0m\u001b[0;34m(\u001b[0m\u001b[0mpreprocess\u001b[0m\u001b[0;34m(\u001b[0m\u001b[0mvacancy\u001b[0m\u001b[0;34m)\u001b[0m\u001b[0;34m)\u001b[0m\u001b[0;34m\u001b[0m\u001b[0;34m\u001b[0m\u001b[0m\n\u001b[1;32m    129\u001b[0m \u001b[0;34m\u001b[0m\u001b[0m\n",
            "\u001b[0;32m/usr/local/lib/python3.10/dist-packages/tqdm/std.py\u001b[0m in \u001b[0;36m__iter__\u001b[0;34m(self)\u001b[0m\n\u001b[1;32m   1176\u001b[0m \u001b[0;34m\u001b[0m\u001b[0m\n\u001b[1;32m   1177\u001b[0m         \u001b[0;32mtry\u001b[0m\u001b[0;34m:\u001b[0m\u001b[0;34m\u001b[0m\u001b[0;34m\u001b[0m\u001b[0m\n\u001b[0;32m-> 1178\u001b[0;31m             \u001b[0;32mfor\u001b[0m \u001b[0mobj\u001b[0m \u001b[0;32min\u001b[0m \u001b[0miterable\u001b[0m\u001b[0;34m:\u001b[0m\u001b[0;34m\u001b[0m\u001b[0;34m\u001b[0m\u001b[0m\n\u001b[0m\u001b[1;32m   1179\u001b[0m                 \u001b[0;32myield\u001b[0m \u001b[0mobj\u001b[0m\u001b[0;34m\u001b[0m\u001b[0;34m\u001b[0m\u001b[0m\n\u001b[1;32m   1180\u001b[0m                 \u001b[0;31m# Update and possibly print the progressbar.\u001b[0m\u001b[0;34m\u001b[0m\u001b[0;34m\u001b[0m\u001b[0m\n",
            "\u001b[0;31mTypeError\u001b[0m: 'function' object is not iterable"
          ]
        }
      ]
    },
    {
      "cell_type": "code",
      "source": [],
      "metadata": {
        "id": "INtm9HY8RPin"
      },
      "execution_count": null,
      "outputs": []
    }
  ]
}